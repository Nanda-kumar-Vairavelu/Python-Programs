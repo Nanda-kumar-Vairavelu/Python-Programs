{
 "cells": [
  {
   "cell_type": "code",
   "execution_count": 2,
   "metadata": {},
   "outputs": [
    {
     "name": "stdout",
     "output_type": "stream",
     "text": [
      "this is python training. this is where python taught\n",
      "THIS IS PYTHON TRAINING. THIS IS WHERE PYTHON TAUGHT\n",
      "this is python training. this is where python taught\n",
      "False\n",
      "True\n",
      "False\n",
      "False\n"
     ]
    }
   ],
   "source": [
    "str1 = \"this is python training. this is where python taught\"\n",
    "\n",
    "print(str1)\n",
    "\n",
    "print(str1.upper())\n",
    "print(str1.lower())\n",
    "print(str1.isupper())\n",
    "print(str1.islower())\n",
    "\n",
    "print(str1.isdecimal())\n",
    "print(str1.isnumeric())\n",
    "\n"
   ]
  }
 ],
 "metadata": {
  "kernelspec": {
   "display_name": "practice_env",
   "language": "python",
   "name": "python3"
  },
  "language_info": {
   "codemirror_mode": {
    "name": "ipython",
    "version": 3
   },
   "file_extension": ".py",
   "mimetype": "text/x-python",
   "name": "python",
   "nbconvert_exporter": "python",
   "pygments_lexer": "ipython3",
   "version": "3.12.9"
  }
 },
 "nbformat": 4,
 "nbformat_minor": 2
}
