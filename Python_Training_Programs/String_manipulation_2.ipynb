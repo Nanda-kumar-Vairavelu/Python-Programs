{
 "cells": [
  {
   "cell_type": "code",
   "execution_count": 5,
   "metadata": {},
   "outputs": [
    {
     "name": "stdout",
     "output_type": "stream",
     "text": [
      "<class 'list'>\n",
      "this is the python session\n",
      "this is the python session \n",
      " this is the python session\n",
      "False\n",
      "False\n",
      " this is the PYTHON session \n"
     ]
    }
   ],
   "source": [
    "str1 = (\" this is the python session \")\n",
    "\n",
    "str2 = str1.split(\" \")\n",
    "print(type(str2))\n",
    "\n",
    "str3 = str1.strip()\n",
    "str4 = str1.lstrip()\n",
    "str5 = str1.rstrip()\n",
    "\n",
    "str6 = str1.startswith(\"python\")\n",
    "str7 = str1.endswith(\"python\")\n",
    "\n",
    "str8 = str1.replace('python','PYTHON')\n",
    "print(str3)\n",
    "print(str4)\n",
    "print(str5)\n",
    "print(str6)\n",
    "print(str7)\n",
    "print(str8)\n"
   ]
  }
 ],
 "metadata": {
  "kernelspec": {
   "display_name": "practice_env",
   "language": "python",
   "name": "python3"
  },
  "language_info": {
   "codemirror_mode": {
    "name": "ipython",
    "version": 3
   },
   "file_extension": ".py",
   "mimetype": "text/x-python",
   "name": "python",
   "nbconvert_exporter": "python",
   "pygments_lexer": "ipython3",
   "version": "3.12.9"
  }
 },
 "nbformat": 4,
 "nbformat_minor": 2
}
