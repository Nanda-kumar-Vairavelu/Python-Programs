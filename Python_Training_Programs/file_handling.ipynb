{
 "cells": [
  {
   "cell_type": "code",
   "execution_count": 9,
   "metadata": {},
   "outputs": [
    {
     "name": "stdout",
     "output_type": "stream",
     "text": [
      "ÿþl\u0000i\u0000n\u0000e\u00001\u0000\n",
      "\u0000l\u0000i\u0000n\u0000\n"
     ]
    }
   ],
   "source": [
    "file1 = open(\"C:\\\\Users\\\\ag00692\\\\Desktop\\\\Architect\\\\Python_Practicals_Training_Programs\\\\File_read_write\\\\input_file.txt\", 'r', encoding='latin-1')\n",
    "\n",
    "file2 = open(\"C:\\\\Users\\\\ag00692\\\\Desktop\\\\Architect\\\\Python_Practicals_Training_Programs\\\\File_read_write\\\\output_file.txt\",'a')\n",
    "\n",
    "for data in file1:\n",
    "    file2.write(data)\n",
    "\n",
    "file1.close()\n",
    "file2.close()\n",
    "\n",
    "file3 = open(\"C:\\\\Users\\\\ag00692\\\\Desktop\\\\Architect\\\\Python_Practicals_Training_Programs\\\\File_read_write\\\\input_file.txt\", 'r', encoding='latin-1')\n",
    "print(file3.read(20))\n",
    "    \n"
   ]
  }
 ],
 "metadata": {
  "kernelspec": {
   "display_name": "practice_env",
   "language": "python",
   "name": "python3"
  },
  "language_info": {
   "codemirror_mode": {
    "name": "ipython",
    "version": 3
   },
   "file_extension": ".py",
   "mimetype": "text/x-python",
   "name": "python",
   "nbconvert_exporter": "python",
   "pygments_lexer": "ipython3",
   "version": "3.12.9"
  }
 },
 "nbformat": 4,
 "nbformat_minor": 2
}
