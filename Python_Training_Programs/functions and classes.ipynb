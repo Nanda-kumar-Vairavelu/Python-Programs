{
 "cells": [
  {
   "cell_type": "code",
   "execution_count": 28,
   "metadata": {},
   "outputs": [
    {
     "name": "stdout",
     "output_type": "stream",
     "text": [
      "Hello world\n",
      "3\n",
      "2\n",
      "12\n"
     ]
    }
   ],
   "source": [
    "def demo_function(a):\n",
    "    print(a)\n",
    "share = \"Hello world\"\n",
    "demo_function(share)\n",
    "\n",
    "\n",
    "def add_function(a,b):\n",
    "    print(a+b)\n",
    "\n",
    "add_function(1,2)\n",
    "\n",
    "def factorial(x):\n",
    "    if x == 0 or x == 1:\n",
    "        return 1\n",
    "    else:\n",
    "       result = x * factorial(x-1)\n",
    "    return result\n",
    "\n",
    "fact = factorial(2)\n",
    "print(fact)\n",
    "\n",
    "\n",
    "class calculation:\n",
    "    def __init__(self,a,b,c):\n",
    "        self.a = a\n",
    "        self.b = b\n",
    "        self.c = c\n",
    "\n",
    "    def add_ab(self):\n",
    "        return(self.a + self.b)\n",
    "\n",
    "    def add_abc(self):\n",
    "        abc= self.add_ab() + self.c\n",
    "        return abc\n",
    "                \n",
    "cal_instance = calculation(3,4,5)\n",
    "print(cal_instance.add_abc())"
   ]
  }
 ],
 "metadata": {
  "kernelspec": {
   "display_name": "practice_env",
   "language": "python",
   "name": "python3"
  },
  "language_info": {
   "codemirror_mode": {
    "name": "ipython",
    "version": 3
   },
   "file_extension": ".py",
   "mimetype": "text/x-python",
   "name": "python",
   "nbconvert_exporter": "python",
   "pygments_lexer": "ipython3",
   "version": "3.12.9"
  }
 },
 "nbformat": 4,
 "nbformat_minor": 2
}
