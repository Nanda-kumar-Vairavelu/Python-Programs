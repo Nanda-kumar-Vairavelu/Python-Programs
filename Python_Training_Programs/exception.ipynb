{
 "cells": [
  {
   "cell_type": "code",
   "execution_count": 8,
   "metadata": {},
   "outputs": [
    {
     "name": "stdout",
     "output_type": "stream",
     "text": [
      "Zero division error:\n",
      "division by zero\n",
      "came to finally\n"
     ]
    }
   ],
   "source": [
    "try:\n",
    "    print(4/0)\n",
    "except ZeroDivisionError as e:\n",
    "    print(\"Zero division error:\")\n",
    "    print(e)\n",
    "except TypeError as e:\n",
    "    print(\"TypeError\")\n",
    "    print(e)\n",
    "except exception as e:\n",
    "    print(\"Exception\")\n",
    "    print(e)\n",
    "else:\n",
    "    print(\"Division done succesfully\")\n",
    "finally:\n",
    "    print(\"came to finally\")"
   ]
  }
 ],
 "metadata": {
  "kernelspec": {
   "display_name": "practice_env",
   "language": "python",
   "name": "python3"
  },
  "language_info": {
   "codemirror_mode": {
    "name": "ipython",
    "version": 3
   },
   "file_extension": ".py",
   "mimetype": "text/x-python",
   "name": "python",
   "nbconvert_exporter": "python",
   "pygments_lexer": "ipython3",
   "version": "3.12.9"
  }
 },
 "nbformat": 4,
 "nbformat_minor": 2
}
