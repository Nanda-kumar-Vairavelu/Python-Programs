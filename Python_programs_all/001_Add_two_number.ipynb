{
 "cells": [
  {
   "cell_type": "code",
   "execution_count": null,
   "metadata": {},
   "outputs": [
    {
     "name": "stdout",
     "output_type": "stream",
     "text": [
      "the sume of 1 and 2 is 3\n"
     ]
    }
   ],
   "source": [
    "# add two number using Lambda\n",
    "\n",
    "addition = lambda x,y:x+y\n",
    "\n",
    "num1 = 2\n",
    "num2 = 2\n",
    "\n",
    "add_num = addition(num1, num2)\n",
    "\n",
    "print(\"the sume of\", num1, \"and\", num2, \"is\", add_num)"
   ]
  }
 ],
 "metadata": {
  "kernelspec": {
   "display_name": "myenv",
   "language": "python",
   "name": "python3"
  },
  "language_info": {
   "codemirror_mode": {
    "name": "ipython",
    "version": 3
   },
   "file_extension": ".py",
   "mimetype": "text/x-python",
   "name": "python",
   "nbconvert_exporter": "python",
   "pygments_lexer": "ipython3",
   "version": "3.9.12"
  }
 },
 "nbformat": 4,
 "nbformat_minor": 2
}
