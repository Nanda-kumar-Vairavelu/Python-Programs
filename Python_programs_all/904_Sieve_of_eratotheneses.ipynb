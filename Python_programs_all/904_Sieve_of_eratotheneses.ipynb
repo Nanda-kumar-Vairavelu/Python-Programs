{
 "cells": [
  {
   "cell_type": "code",
   "execution_count": 7,
   "id": "07af4618",
   "metadata": {},
   "outputs": [
    {
     "name": "stdout",
     "output_type": "stream",
     "text": [
      "2\n",
      "3\n",
      "5\n",
      "7\n",
      "11\n",
      "13\n",
      "17\n",
      "19\n",
      "23\n",
      "29\n"
     ]
    }
   ],
   "source": [
    "#Following are the prime numbers smaller\n",
    "#than or equal to 30\n",
    "\n",
    "def sieveoferatotheneses(num):\n",
    "\n",
    "    prime = [True for i in range(num+1)]\n",
    "\n",
    "    p = 2\n",
    "    while(p*p <= num):\n",
    "        if (prime[p] == True):\n",
    "            for i in range(p*p, num+1, p):\n",
    "                prime[i] = False\n",
    "        p += 1\n",
    "\n",
    "    for p in range(2,num+1):\n",
    "        if prime[p]:\n",
    "            print(p)\n",
    "\n",
    "if __name__ == '__main__':\n",
    "    num = 30\n",
    "    sieveoferatotheneses(num)\n"
   ]
  }
 ],
 "metadata": {
  "kernelspec": {
   "display_name": "myenv",
   "language": "python",
   "name": "python3"
  },
  "language_info": {
   "codemirror_mode": {
    "name": "ipython",
    "version": 3
   },
   "file_extension": ".py",
   "mimetype": "text/x-python",
   "name": "python",
   "nbconvert_exporter": "python",
   "pygments_lexer": "ipython3",
   "version": "3.9.12"
  }
 },
 "nbformat": 4,
 "nbformat_minor": 5
}
