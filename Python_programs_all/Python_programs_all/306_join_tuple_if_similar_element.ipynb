{
 "cells": [
  {
   "cell_type": "code",
   "execution_count": 6,
   "id": "abf909e6",
   "metadata": {},
   "outputs": [
    {
     "name": "stdout",
     "output_type": "stream",
     "text": [
      "[(1, 2, 3, 4), (5, 6, 7, 8)]\n"
     ]
    }
   ],
   "source": [
    "import pandas as pd\n",
    "\n",
    "test_list = [(5,6),(5,7),(5,8),(1,2),(1,3),(1,4)]\n",
    "\n",
    "df = pd.DataFrame(test_list, columns=[\"A\",\"B\"])\n",
    "\n",
    "grouped = df.groupby(\"A\")[\"B\"].apply(list)\n",
    "\n",
    "res = [tuple([k]+v) for k,v in grouped.items()]\n",
    "\n",
    "print(res)"
   ]
  }
 ],
 "metadata": {
  "kernelspec": {
   "display_name": "myenv",
   "language": "python",
   "name": "python3"
  },
  "language_info": {
   "codemirror_mode": {
    "name": "ipython",
    "version": 3
   },
   "file_extension": ".py",
   "mimetype": "text/x-python",
   "name": "python",
   "nbconvert_exporter": "python",
   "pygments_lexer": "ipython3",
   "version": "3.9.12"
  }
 },
 "nbformat": 4,
 "nbformat_minor": 5
}
