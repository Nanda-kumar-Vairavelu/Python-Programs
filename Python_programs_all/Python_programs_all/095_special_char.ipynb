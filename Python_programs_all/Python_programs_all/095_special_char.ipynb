{
 "cells": [
  {
   "cell_type": "code",
   "execution_count": 3,
   "metadata": {},
   "outputs": [
    {
     "name": "stdout",
     "output_type": "stream",
     "text": [
      "has special chars\n"
     ]
    }
   ],
   "source": [
    "def has_spec_char(s):\n",
    "    for c in s:\n",
    "        if not(c.isalpha() or c.isdigit() or c==' '):\n",
    "            return True\n",
    "    return False\n",
    "\n",
    "s = \"Hello#world\"\n",
    "if has_spec_char(s):\n",
    "    print(\"has special chars\")"
   ]
  }
 ],
 "metadata": {
  "kernelspec": {
   "display_name": "practice_env",
   "language": "python",
   "name": "python3"
  },
  "language_info": {
   "codemirror_mode": {
    "name": "ipython",
    "version": 3
   },
   "file_extension": ".py",
   "mimetype": "text/x-python",
   "name": "python",
   "nbconvert_exporter": "python",
   "pygments_lexer": "ipython3",
   "version": "3.12.9"
  }
 },
 "nbformat": 4,
 "nbformat_minor": 2
}
