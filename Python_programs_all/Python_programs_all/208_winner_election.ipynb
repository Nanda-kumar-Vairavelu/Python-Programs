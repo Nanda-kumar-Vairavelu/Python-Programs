{
 "cells": [
  {
   "cell_type": "code",
   "execution_count": 9,
   "metadata": {},
   "outputs": [
    {
     "name": "stdout",
     "output_type": "stream",
     "text": [
      "['john']\n"
     ]
    }
   ],
   "source": [
    "from collections import *\n",
    "\n",
    "votes = ( 'john','Ernst','john','fred','john','john','Bob','Alice','Alice','Denny','amy','Alice','Bob')\n",
    "\n",
    "vote_count = Counter(votes)\n",
    "\n",
    "max_votes = max(vote_count.values())\n",
    "\n",
    "res = [i for i in vote_count.keys() if vote_count[i]==max_votes]\n",
    "print(res)"
   ]
  }
 ],
 "metadata": {
  "kernelspec": {
   "display_name": "practice_env",
   "language": "python",
   "name": "python3"
  },
  "language_info": {
   "codemirror_mode": {
    "name": "ipython",
    "version": 3
   },
   "file_extension": ".py",
   "mimetype": "text/x-python",
   "name": "python",
   "nbconvert_exporter": "python",
   "pygments_lexer": "ipython3",
   "version": "3.12.9"
  }
 },
 "nbformat": 4,
 "nbformat_minor": 2
}
