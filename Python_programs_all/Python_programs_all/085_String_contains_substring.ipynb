{
 "cells": [
  {
   "cell_type": "code",
   "execution_count": 3,
   "metadata": {},
   "outputs": [
    {
     "name": "stdout",
     "output_type": "stream",
     "text": [
      "substring is in string\n"
     ]
    }
   ],
   "source": [
    "string = 'Hello world'\n",
    "substring = 'world'\n",
    "\n",
    "s = string.split()\n",
    "\n",
    "if substring in s:\n",
    "    print(\"substring is in string\")\n",
    "else:\n",
    "    print(\"substring is not in string\")\n"
   ]
  }
 ],
 "metadata": {
  "kernelspec": {
   "display_name": "practice_env",
   "language": "python",
   "name": "python3"
  },
  "language_info": {
   "codemirror_mode": {
    "name": "ipython",
    "version": 3
   },
   "file_extension": ".py",
   "mimetype": "text/x-python",
   "name": "python",
   "nbconvert_exporter": "python",
   "pygments_lexer": "ipython3",
   "version": "3.12.9"
  }
 },
 "nbformat": 4,
 "nbformat_minor": 2
}
