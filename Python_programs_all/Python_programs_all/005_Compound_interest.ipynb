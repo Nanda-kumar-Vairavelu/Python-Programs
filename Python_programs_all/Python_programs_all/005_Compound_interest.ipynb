{
 "cells": [
  {
   "cell_type": "code",
   "execution_count": 8,
   "metadata": {},
   "outputs": [
    {
     "name": "stdout",
     "output_type": "stream",
     "text": [
      "647.4467659406248\n"
     ]
    }
   ],
   "source": [
    "def compound_interest(Principal, rate, time):\n",
    "    Amount = Principal*(pow(1+rate/100,5))\n",
    "    ci = Amount - Principal\n",
    "    print(ci)\n",
    "\n",
    "compound_interest(1000, 10.5, 5)\n"
   ]
  }
 ],
 "metadata": {
  "kernelspec": {
   "display_name": "practice_env",
   "language": "python",
   "name": "python3"
  },
  "language_info": {
   "codemirror_mode": {
    "name": "ipython",
    "version": 3
   },
   "file_extension": ".py",
   "mimetype": "text/x-python",
   "name": "python",
   "nbconvert_exporter": "python",
   "pygments_lexer": "ipython3",
   "version": "3.12.9"
  }
 },
 "nbformat": 4,
 "nbformat_minor": 2
}
