{
 "cells": [
  {
   "cell_type": "code",
   "execution_count": 2,
   "id": "a53bde43",
   "metadata": {},
   "outputs": [
    {
     "name": "stdout",
     "output_type": "stream",
     "text": [
      "[{'key': 1, 'value': 'gfg', 'id': 2}, {'key': 3, 'value': 'is', 'id': 4}, {'key': 5, 'value': 'best', 'id': 6}]\n"
     ]
    }
   ],
   "source": [
    "tup = ((1,'gfg',2),(3,'is',4),(5,'best',6))\n",
    "\n",
    "dict = [{'key':sub[0],'value':sub[1],'id':sub[2]} for sub in tup]\n",
    "\n",
    "print(dict)"
   ]
  }
 ],
 "metadata": {
  "kernelspec": {
   "display_name": "myenv",
   "language": "python",
   "name": "python3"
  },
  "language_info": {
   "codemirror_mode": {
    "name": "ipython",
    "version": 3
   },
   "file_extension": ".py",
   "mimetype": "text/x-python",
   "name": "python",
   "nbconvert_exporter": "python",
   "pygments_lexer": "ipython3",
   "version": "3.9.12"
  }
 },
 "nbformat": 4,
 "nbformat_minor": 5
}
