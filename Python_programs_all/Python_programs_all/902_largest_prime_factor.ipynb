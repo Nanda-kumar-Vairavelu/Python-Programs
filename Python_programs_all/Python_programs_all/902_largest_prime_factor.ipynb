{
 "cells": [
  {
   "cell_type": "code",
   "execution_count": 12,
   "metadata": {},
   "outputs": [
    {
     "name": "stdout",
     "output_type": "stream",
     "text": [
      "5\n"
     ]
    }
   ],
   "source": [
    "def largest_prime_factor(n):\n",
    "    i = 2\n",
    "    largest_prime = -1\n",
    "\n",
    "    while i**2 <= n:\n",
    "        while n%i==0:\n",
    "            largest_prime = i\n",
    "            n = n//i\n",
    "        i = i + 1\n",
    "    if n > i:\n",
    "        largest_prime = n\n",
    "        return largest_prime\n",
    "\n",
    "n = 15\n",
    "print(largest_prime_factor(n))"
   ]
  }
 ],
 "metadata": {
  "kernelspec": {
   "display_name": "myenv",
   "language": "python",
   "name": "python3"
  },
  "language_info": {
   "codemirror_mode": {
    "name": "ipython",
    "version": 3
   },
   "file_extension": ".py",
   "mimetype": "text/x-python",
   "name": "python",
   "nbconvert_exporter": "python",
   "pygments_lexer": "ipython3",
   "version": "3.9.12"
  }
 },
 "nbformat": 4,
 "nbformat_minor": 2
}
