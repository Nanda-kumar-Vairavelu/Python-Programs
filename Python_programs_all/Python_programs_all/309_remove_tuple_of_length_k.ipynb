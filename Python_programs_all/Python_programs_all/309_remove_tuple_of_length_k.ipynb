{
 "cells": [
  {
   "cell_type": "code",
   "execution_count": 2,
   "id": "17ed1552",
   "metadata": {},
   "outputs": [
    {
     "name": "stdout",
     "output_type": "stream",
     "text": [
      "final result:[(1, 2), (4, 5, 6), (7, 8, 9, 1)]\n"
     ]
    }
   ],
   "source": [
    "import heapq\n",
    "\n",
    "test_list = [(1,2), (3, ), (4,5,6), (7,8,9,1)]\n",
    "k = 1\n",
    "\n",
    "res = list(filter(lambda x: len(x)!=k, test_list))\n",
    "\n",
    "print(\"final result:\" +str(res))"
   ]
  }
 ],
 "metadata": {
  "kernelspec": {
   "display_name": "myenv",
   "language": "python",
   "name": "python3"
  },
  "language_info": {
   "codemirror_mode": {
    "name": "ipython",
    "version": 3
   },
   "file_extension": ".py",
   "mimetype": "text/x-python",
   "name": "python",
   "nbconvert_exporter": "python",
   "pygments_lexer": "ipython3",
   "version": "3.9.12"
  }
 },
 "nbformat": 4,
 "nbformat_minor": 5
}
