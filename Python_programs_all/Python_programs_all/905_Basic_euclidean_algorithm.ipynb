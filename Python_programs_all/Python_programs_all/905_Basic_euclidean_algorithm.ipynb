{
 "cells": [
  {
   "cell_type": "code",
   "execution_count": 5,
   "id": "a1356482",
   "metadata": {},
   "outputs": [
    {
     "name": "stdout",
     "output_type": "stream",
     "text": [
      "gcd: 5\n",
      "gcd: 1\n"
     ]
    }
   ],
   "source": [
    "def gcd(a,b):\n",
    "    if a == 0:\n",
    "        return b\n",
    "    return gcd(b%a,a)\n",
    "\n",
    "a = 10\n",
    "b = 15\n",
    "print(\"gcd:\", gcd(a,b))\n",
    "\n",
    "a = 30\n",
    "b = 1\n",
    "print(\"gcd:\", gcd(a,b))"
   ]
  }
 ],
 "metadata": {
  "kernelspec": {
   "display_name": "myenv",
   "language": "python",
   "name": "python3"
  },
  "language_info": {
   "codemirror_mode": {
    "name": "ipython",
    "version": 3
   },
   "file_extension": ".py",
   "mimetype": "text/x-python",
   "name": "python",
   "nbconvert_exporter": "python",
   "pygments_lexer": "ipython3",
   "version": "3.9.12"
  }
 },
 "nbformat": 4,
 "nbformat_minor": 5
}
