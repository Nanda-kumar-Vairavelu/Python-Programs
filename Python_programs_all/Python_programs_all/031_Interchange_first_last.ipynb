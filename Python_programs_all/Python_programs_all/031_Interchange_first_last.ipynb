{
 "cells": [
  {
   "cell_type": "code",
   "execution_count": 5,
   "metadata": {},
   "outputs": [
    {
     "name": "stdout",
     "output_type": "stream",
     "text": [
      "[8, 6, 3, 7, 1]\n"
     ]
    }
   ],
   "source": [
    "def interchange(newlist1):\n",
    "    size = len(newlist1)\n",
    "\n",
    "    temp = newlist1[0]\n",
    "    newlist1[0] = newlist1[size -1]\n",
    "    newlist1[size -1] = temp\n",
    "\n",
    "    return newlist1\n",
    "\n",
    "newList = [1,6,3,7,8]\n",
    "print(interchange(newList))"
   ]
  }
 ],
 "metadata": {
  "kernelspec": {
   "display_name": "practice_env",
   "language": "python",
   "name": "python3"
  },
  "language_info": {
   "codemirror_mode": {
    "name": "ipython",
    "version": 3
   },
   "file_extension": ".py",
   "mimetype": "text/x-python",
   "name": "python",
   "nbconvert_exporter": "python",
   "pygments_lexer": "ipython3",
   "version": "3.12.9"
  }
 },
 "nbformat": 4,
 "nbformat_minor": 2
}
