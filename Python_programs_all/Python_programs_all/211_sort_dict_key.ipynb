{
 "cells": [
  {
   "cell_type": "code",
   "execution_count": null,
   "metadata": {},
   "outputs": [
    {
     "name": "stdout",
     "output_type": "stream",
     "text": [
      "the actual dict is: {'c': ['1', '2', '3'], 'b': ['4', '5', '6'], 'a': ['7', '8', '9']}\n",
      "the result is: {'a': ['7', '8', '9'], 'b': ['4', '5', '6'], 'c': ['1', '2', '3']}\n"
     ]
    }
   ],
   "source": [
    "test_dict = {'c':['1','2','3'],'b':['4','5','6'],'a':['7','8','9']}\n",
    "print(\"the actual dict is:\", str(test_dict))\n",
    "res = {key: sorted(test_dict[key]) for key in sorted(test_dict)}\n",
    "print(\"the result is:\", str(res))"
   ]
  }
 ],
 "metadata": {
  "kernelspec": {
   "display_name": "practice_env",
   "language": "python",
   "name": "python3"
  },
  "language_info": {
   "codemirror_mode": {
    "name": "ipython",
    "version": 3
   },
   "file_extension": ".py",
   "mimetype": "text/x-python",
   "name": "python",
   "nbconvert_exporter": "python",
   "pygments_lexer": "ipython3",
   "version": "3.12.9"
  }
 },
 "nbformat": 4,
 "nbformat_minor": 2
}
