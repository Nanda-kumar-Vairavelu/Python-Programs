{
 "cells": [
  {
   "cell_type": "code",
   "execution_count": 12,
   "id": "32b4f7d7",
   "metadata": {},
   "outputs": [
    {
     "name": "stdout",
     "output_type": "stream",
     "text": [
      "[4, 3, 1, 2, 6]\n"
     ]
    }
   ],
   "source": [
    "import re\n",
    "test_list = [(1,2), (3,4), (4,6)]\n",
    "\n",
    "temp = re.sub(r'[\\[\\]\\(\\), ]','',str(test_list))\n",
    "res = [int(ele) for ele in set(temp)]\n",
    "\n",
    "print(res)"
   ]
  }
 ],
 "metadata": {
  "kernelspec": {
   "display_name": "myenv",
   "language": "python",
   "name": "python3"
  },
  "language_info": {
   "codemirror_mode": {
    "name": "ipython",
    "version": 3
   },
   "file_extension": ".py",
   "mimetype": "text/x-python",
   "name": "python",
   "nbconvert_exporter": "python",
   "pygments_lexer": "ipython3",
   "version": "3.9.12"
  }
 },
 "nbformat": 4,
 "nbformat_minor": 5
}
