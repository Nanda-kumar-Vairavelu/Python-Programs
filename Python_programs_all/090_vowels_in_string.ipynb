{
 "cells": [
  {
   "cell_type": "code",
   "execution_count": null,
   "metadata": {},
   "outputs": [
    {
     "name": "stdout",
     "output_type": "stream",
     "text": [
      "String contains vowelds\n"
     ]
    }
   ],
   "source": [
    "import re\n",
    "\n",
    "s = 'Hello world aeiou'\n",
    "\n",
    "if re.search(r'(?=.*a)(?=.*e)(?=.*i)(?=.*o)(?=.*u)',s.lower()):\n",
    "    print(\"String contains vowels\")"
   ]
  }
 ],
 "metadata": {
  "kernelspec": {
   "display_name": "practice_env",
   "language": "python",
   "name": "python3"
  },
  "language_info": {
   "codemirror_mode": {
    "name": "ipython",
    "version": 3
   },
   "file_extension": ".py",
   "mimetype": "text/x-python",
   "name": "python",
   "nbconvert_exporter": "python",
   "pygments_lexer": "ipython3",
   "version": "3.12.9"
  }
 },
 "nbformat": 4,
 "nbformat_minor": 2
}
