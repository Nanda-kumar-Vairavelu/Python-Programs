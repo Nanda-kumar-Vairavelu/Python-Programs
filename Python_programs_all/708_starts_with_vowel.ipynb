{
 "cells": [
  {
   "cell_type": "code",
   "execution_count": 3,
   "metadata": {},
   "outputs": [
    {
     "name": "stdout",
     "output_type": "stream",
     "text": [
      "not accepted\n",
      "accepted\n"
     ]
    }
   ],
   "source": [
    "import re \n",
    "\n",
    "def startswithvowel(s):\n",
    "    pattern = '^[aeiouAEIOU].*'\n",
    "    if re.match(pattern,s):\n",
    "        return(\"accepted\")\n",
    "    else:\n",
    "        return(\"not accepted\")\n",
    "\n",
    "s1 = 'zebra'\n",
    "s2 = 'Alaska'\n",
    "print(startswithvowel(s1))\n",
    "print(startswithvowel(s2))"
   ]
  }
 ],
 "metadata": {
  "kernelspec": {
   "display_name": "myenv",
   "language": "python",
   "name": "python3"
  },
  "language_info": {
   "codemirror_mode": {
    "name": "ipython",
    "version": 3
   },
   "file_extension": ".py",
   "mimetype": "text/x-python",
   "name": "python",
   "nbconvert_exporter": "python",
   "pygments_lexer": "ipython3",
   "version": "3.9.12"
  }
 },
 "nbformat": 4,
 "nbformat_minor": 2
}
