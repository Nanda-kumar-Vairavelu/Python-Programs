{
 "cells": [
  {
   "cell_type": "code",
   "execution_count": 7,
   "metadata": {},
   "outputs": [
    {
     "name": "stdout",
     "output_type": "stream",
     "text": [
      "Moved disk 1 from source A to destination C\n",
      "Moved disk 2 from source A to destination B\n",
      "Moved disk 1 from source C to destination B\n",
      "Moved disk 3 from source A to destination C\n",
      "Moved disk 1 from source B to destination A\n",
      "Moved disk 2 from source B to destination C\n",
      "Moved disk 1 from source A to destination C\n",
      "Moved disk 4 from source A to destination B\n",
      "Moved disk 1 from source C to destination B\n",
      "Moved disk 2 from source C to destination A\n",
      "Moved disk 1 from source B to destination A\n",
      "Moved disk 3 from source C to destination B\n",
      "Moved disk 1 from source A to destination C\n",
      "Moved disk 2 from source A to destination B\n",
      "Moved disk 1 from source C to destination B\n"
     ]
    }
   ],
   "source": [
    "\n",
    "def TowerOfHanoi(n, source, destination, auxillary):\n",
    "    if n == 1:\n",
    "        print(\"Moved disk 1 from source\", source, \"to destination\", destination)\n",
    "        return \n",
    "    TowerOfHanoi(n-1, source, auxillary, destination)\n",
    "    print(\"Moved disk\", n, \"from source\", source, \"to destination\", destination)\n",
    "    TowerOfHanoi(n-1, auxillary, destination, source)\n",
    "\n",
    "n = 4\n",
    "TowerOfHanoi(n, 'A', 'B', 'C')"
   ]
  },
  {
   "cell_type": "code",
   "execution_count": null,
   "metadata": {},
   "outputs": [],
   "source": []
  },
  {
   "cell_type": "code",
   "execution_count": null,
   "metadata": {},
   "outputs": [],
   "source": []
  }
 ],
 "metadata": {
  "kernelspec": {
   "display_name": "myenv",
   "language": "python",
   "name": "python3"
  },
  "language_info": {
   "codemirror_mode": {
    "name": "ipython",
    "version": 3
   },
   "file_extension": ".py",
   "mimetype": "text/x-python",
   "name": "python",
   "nbconvert_exporter": "python",
   "pygments_lexer": "ipython3",
   "version": "3.9.12"
  }
 },
 "nbformat": 4,
 "nbformat_minor": 2
}
