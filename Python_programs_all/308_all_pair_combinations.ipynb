{
 "cells": [
  {
   "cell_type": "code",
   "execution_count": 4,
   "id": "45e30666",
   "metadata": {},
   "outputs": [
    {
     "name": "stdout",
     "output_type": "stream",
     "text": [
      "[(1, 2), (2, 1), (1, 3), (3, 1), (4, 2), (2, 4), (4, 3), (3, 4)]\n"
     ]
    }
   ],
   "source": [
    "tuple1 = (1,4)\n",
    "tuple2 = (2,3)\n",
    "\n",
    "final = []\n",
    "\n",
    "for element1 in tuple1:\n",
    "    for element2 in tuple2:\n",
    "        final.append((element1, element2))\n",
    "        final.append((element2, element1))\n",
    "\n",
    "print(final)"
   ]
  }
 ],
 "metadata": {
  "kernelspec": {
   "display_name": "myenv",
   "language": "python",
   "name": "python3"
  },
  "language_info": {
   "codemirror_mode": {
    "name": "ipython",
    "version": 3
   },
   "file_extension": ".py",
   "mimetype": "text/x-python",
   "name": "python",
   "nbconvert_exporter": "python",
   "pygments_lexer": "ipython3",
   "version": "3.9.12"
  }
 },
 "nbformat": 4,
 "nbformat_minor": 5
}
