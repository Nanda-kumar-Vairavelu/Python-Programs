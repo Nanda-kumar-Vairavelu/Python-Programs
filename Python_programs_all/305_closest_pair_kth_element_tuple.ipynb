{
 "cells": [
  {
   "cell_type": "code",
   "execution_count": 2,
   "id": "003f83e2",
   "metadata": {},
   "outputs": [
    {
     "name": "stdout",
     "output_type": "stream",
     "text": [
      "(19, 20)\n"
     ]
    }
   ],
   "source": [
    "import heapq\n",
    "\n",
    "list_tuple = [(1,2,),(19,20),(77,88)]\n",
    "tup = (21,22)\n",
    "K = 1\n",
    "\n",
    "res = heapq.nsmallest(1,list_tuple, key =lambda x:abs(x[K-1] - tup[K-1]))[0]\n",
    "\n",
    "print(res)"
   ]
  }
 ],
 "metadata": {
  "kernelspec": {
   "display_name": "myenv",
   "language": "python",
   "name": "python3"
  },
  "language_info": {
   "codemirror_mode": {
    "name": "ipython",
    "version": 3
   },
   "file_extension": ".py",
   "mimetype": "text/x-python",
   "name": "python",
   "nbconvert_exporter": "python",
   "pygments_lexer": "ipython3",
   "version": "3.9.12"
  }
 },
 "nbformat": 4,
 "nbformat_minor": 5
}
