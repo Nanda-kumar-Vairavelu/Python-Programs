{
 "cells": [
  {
   "cell_type": "code",
   "execution_count": null,
   "metadata": {},
   "outputs": [
    {
     "name": "stdout",
     "output_type": "stream",
     "text": [
      "OrderedDict({'Charlie': '33', 'alice': '22', 'Bob': '23'})\n"
     ]
    }
   ],
   "source": [
    "from collections import *\n",
    "\n",
    "inidict = OrderedDict([('alice','22'),('Bob','23')])\n",
    "inidict.update({'Charlie':'33'})\n",
    "inidict.move_to_end('Charlie',last=False)\n",
    "print(inidict)"
   ]
  }
 ],
 "metadata": {
  "kernelspec": {
   "display_name": "practice_env",
   "language": "python",
   "name": "python3"
  },
  "language_info": {
   "codemirror_mode": {
    "name": "ipython",
    "version": 3
   },
   "file_extension": ".py",
   "mimetype": "text/x-python",
   "name": "python",
   "nbconvert_exporter": "python",
   "pygments_lexer": "ipython3",
   "version": "3.12.9"
  }
 },
 "nbformat": 4,
 "nbformat_minor": 2
}
