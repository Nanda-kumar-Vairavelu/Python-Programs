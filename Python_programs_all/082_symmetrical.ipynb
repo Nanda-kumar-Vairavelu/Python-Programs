{
 "cells": [
  {
   "cell_type": "code",
   "execution_count": 5,
   "metadata": {},
   "outputs": [
    {
     "name": "stdout",
     "output_type": "stream",
     "text": [
      "ama\n",
      "ama\n",
      "symmetrical\n"
     ]
    }
   ],
   "source": [
    "s = 'amaama'\n",
    "half = len(s)//2\n",
    "s1 = s[:half]\n",
    "s2 = s[half:] if len(s)%2==0 else s[half+1:]\n",
    "print(s1)\n",
    "print(s2)\n",
    "if s1==s2:\n",
    "    print('symmetrical')\n"
   ]
  }
 ],
 "metadata": {
  "kernelspec": {
   "display_name": "practice_env",
   "language": "python",
   "name": "python3"
  },
  "language_info": {
   "codemirror_mode": {
    "name": "ipython",
    "version": 3
   },
   "file_extension": ".py",
   "mimetype": "text/x-python",
   "name": "python",
   "nbconvert_exporter": "python",
   "pygments_lexer": "ipython3",
   "version": "3.12.9"
  }
 },
 "nbformat": 4,
 "nbformat_minor": 2
}
