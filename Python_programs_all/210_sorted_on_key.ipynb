{
 "cells": [
  {
   "cell_type": "code",
   "execution_count": 6,
   "metadata": {},
   "outputs": [
    {
     "name": "stdout",
     "output_type": "stream",
     "text": [
      "collections.OrderedDict[[('age', '23'), ('city', 'California'), ('name', 'alice')]]\n"
     ]
    }
   ],
   "source": [
    "from collections import *\n",
    "d = {'name':'alice','age':'23','city':'California'}\n",
    "d1 = OrderedDict[sorted(d.items())]\n",
    "print(d1)"
   ]
  }
 ],
 "metadata": {
  "kernelspec": {
   "display_name": "practice_env",
   "language": "python",
   "name": "python3"
  },
  "language_info": {
   "codemirror_mode": {
    "name": "ipython",
    "version": 3
   },
   "file_extension": ".py",
   "mimetype": "text/x-python",
   "name": "python",
   "nbconvert_exporter": "python",
   "pygments_lexer": "ipython3",
   "version": "3.12.9"
  }
 },
 "nbformat": 4,
 "nbformat_minor": 2
}
