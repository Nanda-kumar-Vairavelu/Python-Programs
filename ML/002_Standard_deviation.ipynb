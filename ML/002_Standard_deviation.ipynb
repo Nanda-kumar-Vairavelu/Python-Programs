{
 "cells": [
  {
   "cell_type": "code",
   "execution_count": null,
   "id": "7e540c16",
   "metadata": {},
   "outputs": [
    {
     "name": "stdout",
     "output_type": "stream",
     "text": [
      "1.0301575072754257\n",
      "69.05568405279901\n"
     ]
    }
   ],
   "source": [
    "#standard deviation is how closer the values are to the mean\n",
    "#lower the value the numbers are closer to mean. higher if the numbers are far away from mean\n",
    "import numpy \n",
    "\n",
    "speed = [86,87,85,86,87,88,85]\n",
    "speed1 = [144,33,44,198]\n",
    "x = numpy.std(speed)\n",
    "y = numpy.std(speed1)\n",
    "print(x)\n",
    "print(y)"
   ]
  }
 ],
 "metadata": {
  "kernelspec": {
   "display_name": "myenv",
   "language": "python",
   "name": "python3"
  },
  "language_info": {
   "codemirror_mode": {
    "name": "ipython",
    "version": 3
   },
   "file_extension": ".py",
   "mimetype": "text/x-python",
   "name": "python",
   "nbconvert_exporter": "python",
   "pygments_lexer": "ipython3",
   "version": "3.9.12"
  }
 },
 "nbformat": 4,
 "nbformat_minor": 5
}
