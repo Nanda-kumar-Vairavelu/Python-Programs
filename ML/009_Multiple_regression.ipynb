{
 "cells": [
  {
   "cell_type": "code",
   "execution_count": 6,
   "id": "a280c3ec",
   "metadata": {},
   "outputs": [
    {
     "name": "stdout",
     "output_type": "stream",
     "text": [
      "[107.2087328]\n"
     ]
    },
    {
     "name": "stderr",
     "output_type": "stream",
     "text": [
      "c:\\ProgramData\\Anaconda3\\envs\\myenv\\lib\\site-packages\\sklearn\\utils\\validation.py:2739: UserWarning: X does not have valid feature names, but LinearRegression was fitted with feature names\n",
      "  warnings.warn(\n"
     ]
    }
   ],
   "source": [
    "import pandas\n",
    "from sklearn import linear_model\n",
    "\n",
    "df = pandas.read_csv(\"C:\\\\Users\\\\AM35488\\\\Desktop\\\\Desktop icons\\\\Architect\\\\Programs\\\\ML\\\\Dataset_Multiple_regression\\\\data.csv\")\n",
    "\n",
    "x = df[[\"Weight\", \"Volume\"]]\n",
    "y = df[\"CO2\"]\n",
    "\n",
    "#to find the % of CO2 emitted for a car of 2300 weight and 1300 volume\n",
    "regr = linear_model.LinearRegression()\n",
    "regr.fit(x, y)\n",
    "\n",
    "predictedCO2 = regr.predict([[2300, 1300]])\n",
    "print(predictedCO2)\n",
    "\n"
   ]
  },
  {
   "cell_type": "code",
   "execution_count": null,
   "id": "d2d72f7d",
   "metadata": {},
   "outputs": [
    {
     "name": "stdout",
     "output_type": "stream",
     "text": [
      "[0.00755095 0.00780526]\n"
     ]
    }
   ],
   "source": [
    "#Co-efficient means how one variable is related to other. Example x and 2x. 2 is a co-efficient here\n",
    "import pandas\n",
    "from sklearn import linear_model\n",
    "\n",
    "df = pandas.read_csv(\"C:\\\\Users\\\\AM35488\\\\Desktop\\\\Desktop icons\\\\Architect\\\\Programs\\\\ML\\\\Dataset_Multiple_regression\\\\data.csv\")\n",
    "\n",
    "x = df[[\"Weight\",\"Volume\"]]\n",
    "y = df[\"CO2\"]\n",
    "\n",
    "regr = linear_model.LinearRegression()\n",
    "regr.fit(x,y)\n",
    "\n",
    "print(regr.coef_)\n",
    "\n",
    "#These values tell us that if the weight increase by 1kg, the CO2 emission increases by 0.00755095g.\n",
    "#And if the engine size (Volume) increases by 1cm3, the CO2 emission increases by 0.00780526g."
   ]
  }
 ],
 "metadata": {
  "kernelspec": {
   "display_name": "myenv",
   "language": "python",
   "name": "python3"
  },
  "language_info": {
   "codemirror_mode": {
    "name": "ipython",
    "version": 3
   },
   "file_extension": ".py",
   "mimetype": "text/x-python",
   "name": "python",
   "nbconvert_exporter": "python",
   "pygments_lexer": "ipython3",
   "version": "3.9.12"
  }
 },
 "nbformat": 4,
 "nbformat_minor": 5
}
