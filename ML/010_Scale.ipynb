{
 "cells": [
  {
   "cell_type": "code",
   "execution_count": 2,
   "id": "5af63535",
   "metadata": {},
   "outputs": [
    {
     "name": "stdout",
     "output_type": "stream",
     "text": [
      "[[-2.10389253 -0.69464924]\n",
      " [-0.55407235 -1.46807314]\n",
      " [-1.52166278 -1.21026517]\n",
      " [-1.78973979  0.07877466]\n",
      " [-0.63784641  1.62562245]\n",
      " [-1.52166278  0.59439059]\n",
      " [-0.76769621 -0.43684127]\n",
      " [ 0.3046118   0.85219855]\n",
      " [-0.7551301  -0.69464924]\n",
      " [-0.59595938 -1.46807314]\n",
      " [-1.30803892 -1.21026517]\n",
      " [-1.26615189  0.07877466]\n",
      " [-0.7551301   1.62562245]\n",
      " [-0.16871166  0.59439059]\n",
      " [ 0.14125238 -0.43684127]\n",
      " [ 0.15800719  0.85219855]\n",
      " [ 0.3046118  -0.69464924]\n",
      " [-0.05142797 -1.46807314]\n",
      " [-0.72580918 -1.21026517]\n",
      " [ 0.14962979  0.07877466]\n",
      " [ 1.2219378   1.62562245]\n",
      " [ 0.5685001   0.59439059]\n",
      " [ 0.3046118  -0.43684127]\n",
      " [ 0.51404696  0.85219855]\n",
      " [ 0.51404696 -0.69464924]\n",
      " [ 0.72348212 -1.46807314]\n",
      " [ 0.8281997  -1.21026517]\n",
      " [ 1.81254495  0.07877466]\n",
      " [ 0.96642691  1.62562245]\n",
      " [ 1.72877089  0.59439059]\n",
      " [ 1.30990057 -0.43684127]\n",
      " [ 1.90050772  0.85219855]\n",
      " [-0.23991961  1.62562245]\n",
      " [ 0.40932938  0.59439059]\n",
      " [ 0.47215993 -0.43684127]\n",
      " [ 0.4302729   0.85219855]]\n"
     ]
    }
   ],
   "source": [
    "#Volume 1.3 is uncomparable with weight 790. using standardisation z = (value - mean)/standarddeviation\n",
    "import pandas\n",
    "from sklearn import linear_model\n",
    "from sklearn.preprocessing import StandardScaler\n",
    "Scale = StandardScaler()\n",
    "\n",
    "df = pandas.read_csv(\"C:\\\\Users\\\\AM35488\\\\Desktop\\\\Desktop icons\\\\Architect\\\\Programs\\\\ML\\\\Dataset_Scale\\\\data.csv\")\n",
    "\n",
    "x = df[[\"Weight\",\"Volume\"]]\n",
    "\n",
    "Scaled = Scale.fit_transform(x)\n",
    "\n",
    "print(Scaled)\n",
    "\n"
   ]
  }
 ],
 "metadata": {
  "kernelspec": {
   "display_name": "myenv",
   "language": "python",
   "name": "python3"
  },
  "language_info": {
   "codemirror_mode": {
    "name": "ipython",
    "version": 3
   },
   "file_extension": ".py",
   "mimetype": "text/x-python",
   "name": "python",
   "nbconvert_exporter": "python",
   "pygments_lexer": "ipython3",
   "version": "3.9.12"
  }
 },
 "nbformat": 4,
 "nbformat_minor": 5
}
