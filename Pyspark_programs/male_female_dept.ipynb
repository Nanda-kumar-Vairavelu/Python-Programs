{
 "cells": [
  {
   "cell_type": "code",
   "execution_count": 13,
   "metadata": {},
   "outputs": [
    {
     "name": "stdout",
     "output_type": "stream",
     "text": [
      "+-----+--------+----------+\n",
      "| dept|Male_emp|Female_emp|\n",
      "+-----+--------+----------+\n",
      "|   IT|       1|      NULL|\n",
      "|   IT|    NULL|         1|\n",
      "|   IT|       1|      NULL|\n",
      "|   IT|    NULL|         1|\n",
      "|Sales|    NULL|         1|\n",
      "|Sales|    NULL|         1|\n",
      "|Sales|    NULL|         1|\n",
      "|Sales|    NULL|         1|\n",
      "|Sales|    NULL|         1|\n",
      "|Sales|       1|      NULL|\n",
      "|   HR|       1|      NULL|\n",
      "|   HR|       1|      NULL|\n",
      "|   HR|       1|      NULL|\n",
      "|   HR|       1|      NULL|\n",
      "|   HR|       1|      NULL|\n",
      "|   HR|    NULL|         1|\n",
      "|   HR|    NULL|         1|\n",
      "+-----+--------+----------+\n",
      "\n",
      "+-----+---------+----+------+\n",
      "| dept|Total_emp|Male|Female|\n",
      "+-----+---------+----+------+\n",
      "|Sales|        6|   1|     5|\n",
      "|   HR|        7|   5|     2|\n",
      "|   IT|        4|   2|     2|\n",
      "+-----+---------+----+------+\n",
      "\n"
     ]
    }
   ],
   "source": [
    "from pyspark.sql import *\n",
    "from pyspark.sql.functions import *\n",
    "\n",
    "spark = SparkSession.builder.appName(\"male_female_total_in_dept\").getOrCreate()\n",
    "\n",
    "df = spark.read.csv(\"C:\\\\Users\\\\ag00692\\\\Desktop\\\\Architect\\\\Python_Practicals\\\\Male_female_dept\\\\input_file.csv\",header=True,inferSchema=True)\n",
    "\n",
    "df1 = df.select(df.dept,when(df.gender=='M',1).alias(\"Male_emp\"),when(df.gender=='F',1).alias(\"Female_emp\"))\n",
    "\n",
    "df2 = df1.groupBy(df1.dept).agg(count(df1.dept).alias('Total_emp'),sum(df1.Male_emp).alias('Male'),sum(df1.Female_emp).alias('Female'))\n",
    "df1.show()\n",
    "df2.show()\n",
    "\n"
   ]
  }
 ],
 "metadata": {
  "kernelspec": {
   "display_name": "practice_env",
   "language": "python",
   "name": "python3"
  },
  "language_info": {
   "codemirror_mode": {
    "name": "ipython",
    "version": 3
   },
   "file_extension": ".py",
   "mimetype": "text/x-python",
   "name": "python",
   "nbconvert_exporter": "python",
   "pygments_lexer": "ipython3",
   "version": "3.12.9"
  }
 },
 "nbformat": 4,
 "nbformat_minor": 2
}
