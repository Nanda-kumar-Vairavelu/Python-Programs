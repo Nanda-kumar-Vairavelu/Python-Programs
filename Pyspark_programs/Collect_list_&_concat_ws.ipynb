{
 "cells": [
  {
   "cell_type": "code",
   "execution_count": 2,
   "metadata": {},
   "outputs": [
    {
     "name": "stdout",
     "output_type": "stream",
     "text": [
      "+-----+--------------------+\n",
      "| Name|             subject|\n",
      "+-----+--------------------+\n",
      "|  Bob|[Informatica, SQL...|\n",
      "| John|[Python, Informat...|\n",
      "|Alice|           [SQL, BI]|\n",
      "+-----+--------------------+\n",
      "\n",
      "+-----+--------------------+\n",
      "| Name|                 sub|\n",
      "+-----+--------------------+\n",
      "|  Bob|  Informatica,SQL,BI|\n",
      "| John|Python,Informatic...|\n",
      "|Alice|              SQL,BI|\n",
      "+-----+--------------------+\n",
      "\n"
     ]
    }
   ],
   "source": [
    "from pyspark.sql.functions import *\n",
    "from pyspark.sql import *\n",
    "\n",
    "spark = SparkSession.builder.appName(\"Collect_list_concat_ws\").getOrCreate()\n",
    "\n",
    "df1 = spark.read.csv(\"C:\\\\Users\\\\am35488\\\\Desktop\\\\Architect\\\\Pyspark_Practicals\\\\Collect_list_&_concat_ws\\\\input_data.csv\",header=True,inferSchema=True)\n",
    "\n",
    "df2 = df1.groupBy(df1.Name).agg(collect_list(df1.Subject).alias(\"subject\"))\n",
    "\n",
    "df2.show()\n",
    "\n",
    "df3 = df2.select(df2.Name,concat_ws(',',df2.subject).alias('sub'))\n",
    "\n",
    "df3.show()\n",
    "\n",
    "spark.stop()\n"
   ]
  }
 ],
 "metadata": {
  "kernelspec": {
   "display_name": "myenv",
   "language": "python",
   "name": "python3"
  },
  "language_info": {
   "codemirror_mode": {
    "name": "ipython",
    "version": 3
   },
   "file_extension": ".py",
   "mimetype": "text/x-python",
   "name": "python",
   "nbconvert_exporter": "python",
   "pygments_lexer": "ipython3",
   "version": "3.9.12"
  }
 },
 "nbformat": 4,
 "nbformat_minor": 2
}
