{
 "cells": [
  {
   "cell_type": "code",
   "execution_count": 6,
   "metadata": {},
   "outputs": [
    {
     "name": "stdout",
     "output_type": "stream",
     "text": [
      "+--------+------+\n",
      "|    Name|Number|\n",
      "+--------+------+\n",
      "|Person_0|     0|\n",
      "|Person_0|     1|\n",
      "|Person_0|     2|\n",
      "|Person_0|     3|\n",
      "|Person_0|     4|\n",
      "|Person_1|     1|\n",
      "|Person_1|     2|\n",
      "|Person_1|     3|\n",
      "|Person_1|     4|\n",
      "|Person_1|     5|\n",
      "|Person_2|     2|\n",
      "|Person_2|     3|\n",
      "|Person_2|     4|\n",
      "|Person_2|     5|\n",
      "|Person_2|     6|\n",
      "|Person_3|     3|\n",
      "|Person_3|     4|\n",
      "|Person_3|     5|\n",
      "|Person_3|     6|\n",
      "|Person_3|     7|\n",
      "+--------+------+\n",
      "only showing top 20 rows\n",
      "\n"
     ]
    }
   ],
   "source": [
    "from pyspark.sql import *\n",
    "from pyspark.sql.functions import *\n",
    "\n",
    "spark = SparkSession.builder.appName(\"explode\").getOrCreate()\n",
    "\n",
    "df = spark.read.csv(\"C:\\\\Users\\\\ag00692\\\\Desktop\\\\Architect\\\\Pyspark_Practicals\\\\explode\\\\input_data.csv\",header=True,inferSchema=True)\n",
    "\n",
    "selected_records = df.select(df.Name,explode(split(df.Numbers,\",\")).alias(\"Number\"))\n",
    "\n",
    "selected_records.show()\n",
    "\n",
    "spark.stop()"
   ]
  }
 ],
 "metadata": {
  "kernelspec": {
   "display_name": "practice_env",
   "language": "python",
   "name": "python3"
  },
  "language_info": {
   "codemirror_mode": {
    "name": "ipython",
    "version": 3
   },
   "file_extension": ".py",
   "mimetype": "text/x-python",
   "name": "python",
   "nbconvert_exporter": "python",
   "pygments_lexer": "ipython3",
   "version": "3.12.9"
  }
 },
 "nbformat": 4,
 "nbformat_minor": 2
}
