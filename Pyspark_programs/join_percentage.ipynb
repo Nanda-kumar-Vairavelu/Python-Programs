{
 "cells": [
  {
   "cell_type": "code",
   "execution_count": 19,
   "metadata": {},
   "outputs": [
    {
     "name": "stdout",
     "output_type": "stream",
     "text": [
      "root\n",
      " |-- Stud_id: integer (nullable = true)\n",
      " |-- Stud_name: string (nullable = true)\n",
      "\n",
      "root\n",
      " |-- Stud_id: integer (nullable = true)\n",
      " |-- Subject: string (nullable = true)\n",
      " |-- Marks: integer (nullable = true)\n",
      "\n",
      "+-------+---------+----------+\n",
      "|Stud_id|Stud_name|percentage|\n",
      "+-------+---------+----------+\n",
      "|      2|      Bob|      50.0|\n",
      "|      1|    Alice|      95.0|\n",
      "|      3|  Charlie|     100.0|\n",
      "+-------+---------+----------+\n",
      "\n"
     ]
    }
   ],
   "source": [
    "from pyspark.sql import *\n",
    "from pyspark.sql.functions import *\n",
    "\n",
    "spark = SparkSession.builder.appName(\"Join1\").getOrCreate()\n",
    "\n",
    "df1 = spark.read.csv(\"C:\\\\Users\\\\ag00692\\\\Desktop\\\\Architect\\\\Pyspark_Practicals\\\\join_percentage\\\\input_data_1.csv\",header=True,inferSchema=True)\n",
    "\n",
    "df2 = spark.read.csv(\"C:\\\\Users\\\\ag00692\\\\Desktop\\\\Architect\\\\Pyspark_Practicals\\\\join_percentage\\\\input_data_2.csv\",header=True,inferSchema=True)\n",
    "\n",
    "df1.printSchema()\n",
    "\n",
    "df2.printSchema()\n",
    "\n",
    "sr1 = df1.join(df2, df1[\"Stud_id\"] == df2[\"Stud_id\"]).drop(df2[\"Stud_id\"])\n",
    "\n",
    "sr2 = sr1.groupBy(\"Stud_id\",\"Stud_name\").agg((sum('Marks')/count('*')).alias('percentage'))\n",
    "\n",
    "sr2.show()\n",
    "\n",
    "spark.stop()\n"
   ]
  },
  {
   "cell_type": "code",
   "execution_count": null,
   "metadata": {},
   "outputs": [],
   "source": []
  },
  {
   "cell_type": "code",
   "execution_count": null,
   "metadata": {},
   "outputs": [],
   "source": []
  }
 ],
 "metadata": {
  "kernelspec": {
   "display_name": "practice_env",
   "language": "python",
   "name": "python3"
  },
  "language_info": {
   "codemirror_mode": {
    "name": "ipython",
    "version": 3
   },
   "file_extension": ".py",
   "mimetype": "text/x-python",
   "name": "python",
   "nbconvert_exporter": "python",
   "pygments_lexer": "ipython3",
   "version": "3.12.9"
  }
 },
 "nbformat": 4,
 "nbformat_minor": 2
}
