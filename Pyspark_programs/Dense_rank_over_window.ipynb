{
 "cells": [
  {
   "cell_type": "code",
   "execution_count": null,
   "metadata": {},
   "outputs": [
    {
     "name": "stdout",
     "output_type": "stream",
     "text": [
      "+------+--------+-------+--------+----+\n",
      "|Emp_id|Emp_name|Emp_sal|Emp_dept|rank|\n",
      "+------+--------+-------+--------+----+\n",
      "|     3| Charlie|   3000|     CSE|   1|\n",
      "|     4|   Denny|   2000|     CSE|   2|\n",
      "|     6|     Fan|  12000|     ECE|   1|\n",
      "|     7|  George|   2200|     ECE|   2|\n",
      "|     5|     Eve|   1100|     ECE|   3|\n",
      "|     2|     Bob|   1500|      IT|   1|\n",
      "|     1|   Alice|   1000|      IT|   2|\n",
      "+------+--------+-------+--------+----+\n",
      "\n"
     ]
    },
    {
     "ename": "NameError",
     "evalue": "name 'stop' is not defined",
     "output_type": "error",
     "traceback": [
      "\u001b[1;31m---------------------------------------------------------------------------\u001b[0m",
      "\u001b[1;31mNameError\u001b[0m                                 Traceback (most recent call last)",
      "Cell \u001b[1;32mIn[9], line 13\u001b[0m\n\u001b[0;32m      9\u001b[0m sr \u001b[38;5;241m=\u001b[39m df\u001b[38;5;241m.\u001b[39mselect(col(\u001b[38;5;124m\"\u001b[39m\u001b[38;5;124m*\u001b[39m\u001b[38;5;124m\"\u001b[39m), dense_rank()\u001b[38;5;241m.\u001b[39mover(Window\u001b[38;5;241m.\u001b[39mpartitionBy(\u001b[38;5;124m\"\u001b[39m\u001b[38;5;124mEmp_dept\u001b[39m\u001b[38;5;124m\"\u001b[39m)\u001b[38;5;241m.\u001b[39morderBy(col(\u001b[38;5;124m\"\u001b[39m\u001b[38;5;124mEmp_sal\u001b[39m\u001b[38;5;124m\"\u001b[39m)\u001b[38;5;241m.\u001b[39mdesc()))\u001b[38;5;241m.\u001b[39malias(\u001b[38;5;124m\"\u001b[39m\u001b[38;5;124mrank\u001b[39m\u001b[38;5;124m\"\u001b[39m))\n\u001b[0;32m     11\u001b[0m sr\u001b[38;5;241m.\u001b[39mshow()\n\u001b[1;32m---> 13\u001b[0m stop\u001b[38;5;241m.\u001b[39mspark()\n",
      "\u001b[1;31mNameError\u001b[0m: name 'stop' is not defined"
     ]
    },
    {
     "ename": "",
     "evalue": "",
     "output_type": "error",
     "traceback": [
      "\u001b[1;31mThe Kernel crashed while executing code in the current cell or a previous cell. \n",
      "\u001b[1;31mPlease review the code in the cell(s) to identify a possible cause of the failure. \n",
      "\u001b[1;31mClick <a href='https://aka.ms/vscodeJupyterKernelCrash'>here</a> for more info. \n",
      "\u001b[1;31mView Jupyter <a href='command:jupyter.viewOutput'>log</a> for further details."
     ]
    }
   ],
   "source": [
    "from pyspark.sql import *\n",
    "from pyspark.sql.functions import *\n",
    "from pyspark.sql.window import *\n",
    "\n",
    "spark = SparkSession.builder.appName(\"Dense_rank\").getOrCreate()\n",
    "\n",
    "df = spark.read.csv(\"C:\\\\Users\\\\ag00692\\\\Desktop\\\\Architect\\\\Pyspark_Practicals\\\\Dense_Rank_over_window\\\\input_data.csv\",header=True,inferSchema=True)\n",
    "\n",
    "sr = df.select(col(\"*\"), dense_rank().over(Window.partitionBy(\"Emp_dept\").orderBy(col(\"Emp_sal\").desc())).alias(\"rank\"))\n",
    "\n",
    "sr.show()\n",
    "\n",
    "stop.spark()"
   ]
  }
 ],
 "metadata": {
  "kernelspec": {
   "display_name": "practice_env",
   "language": "python",
   "name": "python3"
  },
  "language_info": {
   "codemirror_mode": {
    "name": "ipython",
    "version": 3
   },
   "file_extension": ".py",
   "mimetype": "text/x-python",
   "name": "python",
   "nbconvert_exporter": "python",
   "pygments_lexer": "ipython3",
   "version": "3.12.9"
  }
 },
 "nbformat": 4,
 "nbformat_minor": 2
}
