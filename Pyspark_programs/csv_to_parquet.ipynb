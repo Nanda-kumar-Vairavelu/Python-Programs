{
 "cells": [
  {
   "cell_type": "code",
   "execution_count": 3,
   "metadata": {},
   "outputs": [],
   "source": [
    "from pyspark.sql import *\n",
    "from pyspark.sql.functions import *\n",
    "\n",
    "spark = SparkSession.builder.appName(\"csv_to_parquet\").getOrCreate()\n",
    "\n",
    "df = spark.read.csv(\"C:\\\\Users\\\\ag00692\\\\Desktop\\\\Architect\\\\Pyspark_Practicals\\\\Read_csv\\\\input_file_1.csv\",header=True, inferSchema=True)\n",
    "\n",
    "df.write.parquet(\"C:\\\\Users\\\\ag00692\\\\Desktop\\\\Architect\\\\Pyspark_Practicals\\\\Read_csv\\\\output.parquet\")\n",
    "\n",
    "spark.stop()"
   ]
  }
 ],
 "metadata": {
  "kernelspec": {
   "display_name": "practice_env",
   "language": "python",
   "name": "python3"
  },
  "language_info": {
   "codemirror_mode": {
    "name": "ipython",
    "version": 3
   },
   "file_extension": ".py",
   "mimetype": "text/x-python",
   "name": "python",
   "nbconvert_exporter": "python",
   "pygments_lexer": "ipython3",
   "version": "3.12.9"
  }
 },
 "nbformat": 4,
 "nbformat_minor": 2
}
