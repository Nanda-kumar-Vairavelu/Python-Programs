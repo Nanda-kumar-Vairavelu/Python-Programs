{
 "cells": [
  {
   "cell_type": "code",
   "execution_count": 2,
   "metadata": {},
   "outputs": [
    {
     "name": "stdout",
     "output_type": "stream",
     "text": [
      "+-----+-----+-----+----------------+\n",
      "|City1|City2|City3|non_nullable_col|\n",
      "+-----+-----+-----+----------------+\n",
      "|   AP| NULL| NULL|              AP|\n",
      "| NULL|   KA| NULL|              KA|\n",
      "| NULL| NULL|   TN|              TN|\n",
      "+-----+-----+-----+----------------+\n",
      "\n"
     ]
    }
   ],
   "source": [
    "from pyspark.sql import *\n",
    "from pyspark.sql.functions import *\n",
    "\n",
    "spark = SparkSession.builder.appName(\"coalesce\").getOrCreate()\n",
    "\n",
    "df = spark.read.csv(\"C:\\\\Users\\\\am35488\\\\Desktop\\\\Architect\\\\Pyspark_Practicals\\\\Coalesce\\\\input_data.csv\",header=True,inferSchema=True)\n",
    "\n",
    "selected_records = df.withColumn('non_nullable_col',coalesce(\n",
    "                    when(col('City1')=='',None).otherwise(col('City1')),\n",
    "                    when(col('City2')=='',None).otherwise(col('City2')),\n",
    "                    when(col('City3')=='',None).otherwise(col('City3'))))\n",
    "\n",
    "selected_records.show()\n",
    "\n",
    "spark.stop()"
   ]
  }
 ],
 "metadata": {
  "kernelspec": {
   "display_name": "myenv",
   "language": "python",
   "name": "python3"
  },
  "language_info": {
   "codemirror_mode": {
    "name": "ipython",
    "version": 3
   },
   "file_extension": ".py",
   "mimetype": "text/x-python",
   "name": "python",
   "nbconvert_exporter": "python",
   "pygments_lexer": "ipython3",
   "version": "3.9.12"
  }
 },
 "nbformat": 4,
 "nbformat_minor": 2
}
