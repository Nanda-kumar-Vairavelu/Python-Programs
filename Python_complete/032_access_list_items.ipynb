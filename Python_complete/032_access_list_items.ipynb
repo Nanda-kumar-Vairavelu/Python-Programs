{
 "cells": [
  {
   "cell_type": "code",
   "execution_count": 2,
   "id": "b59584f5",
   "metadata": {},
   "outputs": [
    {
     "name": "stdout",
     "output_type": "stream",
     "text": [
      "['apple', 'Banana']\n",
      "['Orange', 'kiwi', 'melon']\n",
      "['Orange']\n",
      "['Orange']\n",
      "present\n"
     ]
    }
   ],
   "source": [
    "list1 = [\"apple\",\"Banana\",\"Orange\",\"kiwi\",\"melon\"]\n",
    "print(list1[:2])\n",
    "print(list1[2:])\n",
    "print(list1[-3:-2])\n",
    "print(list1[2:3])\n",
    "if \"apple\" in list1:\n",
    "    print(\"present\")"
   ]
  }
 ],
 "metadata": {
  "kernelspec": {
   "display_name": "myenv",
   "language": "python",
   "name": "python3"
  },
  "language_info": {
   "codemirror_mode": {
    "name": "ipython",
    "version": 3
   },
   "file_extension": ".py",
   "mimetype": "text/x-python",
   "name": "python",
   "nbconvert_exporter": "python",
   "pygments_lexer": "ipython3",
   "version": "3.9.12"
  }
 },
 "nbformat": 4,
 "nbformat_minor": 5
}
