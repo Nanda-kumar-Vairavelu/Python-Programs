{
 "cells": [
  {
   "cell_type": "code",
   "execution_count": 2,
   "id": "4db740ae",
   "metadata": {},
   "outputs": [
    {
     "name": "stdout",
     "output_type": "stream",
     "text": [
      "['apple', 'kiwi', 'mango', 'orange']\n"
     ]
    }
   ],
   "source": [
    "#basic sort\n",
    "lst = [\"apple\",\"orange\",\"mango\",\"kiwi\"]\n",
    "lst.sort()\n",
    "print(lst)"
   ]
  },
  {
   "cell_type": "code",
   "execution_count": 3,
   "id": "a66338f4",
   "metadata": {},
   "outputs": [
    {
     "name": "stdout",
     "output_type": "stream",
     "text": [
      "['22', '33', '44', '55']\n"
     ]
    }
   ],
   "source": [
    "#number sort\n",
    "lst = [\"22\",\"33\",\"55\",\"44\"]\n",
    "lst.sort()\n",
    "print(lst)"
   ]
  },
  {
   "cell_type": "code",
   "execution_count": 4,
   "id": "236de490",
   "metadata": {},
   "outputs": [
    {
     "name": "stdout",
     "output_type": "stream",
     "text": [
      "['orange', 'mango', 'kiwi', 'apple']\n"
     ]
    }
   ],
   "source": [
    "#reverse char sort\n",
    "lst = [\"apple\",\"orange\",\"mango\",\"kiwi\"]\n",
    "lst.sort(reverse=True)\n",
    "print(lst)"
   ]
  },
  {
   "cell_type": "code",
   "execution_count": 5,
   "id": "01d3b87c",
   "metadata": {},
   "outputs": [
    {
     "name": "stdout",
     "output_type": "stream",
     "text": [
      "['55', '44', '33', '22']\n"
     ]
    }
   ],
   "source": [
    "#reverse number sort\n",
    "lst = [\"22\",\"33\",\"44\",\"55\"]\n",
    "lst.sort(reverse=True)\n",
    "print(lst)"
   ]
  },
  {
   "cell_type": "code",
   "execution_count": null,
   "id": "fcbfff2d",
   "metadata": {},
   "outputs": [
    {
     "name": "stdout",
     "output_type": "stream",
     "text": [
      "[55, 75, 25, 85, 95]\n"
     ]
    }
   ],
   "source": [
    "#sort on basis how closer the number is to 50\n",
    "def myfunc(n):\n",
    "    return abs(n-50)\n",
    "\n",
    "lst = [55,75,85,95,25]\n",
    "lst.sort(key = myfunc)\n",
    "print(lst)"
   ]
  },
  {
   "cell_type": "code",
   "execution_count": 8,
   "id": "7852f4ed",
   "metadata": {},
   "outputs": [
    {
     "name": "stdout",
     "output_type": "stream",
     "text": [
      "['Apple', 'Pineapple', 'mango']\n"
     ]
    }
   ],
   "source": [
    "#case sensitive - default\n",
    "lst = [\"mango\",\"Pineapple\",\"Apple\"]\n",
    "lst.sort()\n",
    "print(lst)"
   ]
  },
  {
   "cell_type": "code",
   "execution_count": 10,
   "id": "3dff395c",
   "metadata": {},
   "outputs": [
    {
     "name": "stdout",
     "output_type": "stream",
     "text": [
      "['Apple', 'mango', 'Pineapple']\n"
     ]
    }
   ],
   "source": [
    "#case sensitivity can be decommisioned\n",
    "lst = [\"mango\",\"Pineapple\",\"Apple\"]\n",
    "lst.sort(key = str.lower)\n",
    "print(lst)"
   ]
  },
  {
   "cell_type": "code",
   "execution_count": 11,
   "id": "b85c876b",
   "metadata": {},
   "outputs": [
    {
     "name": "stdout",
     "output_type": "stream",
     "text": [
      "['Apple', 'Pineapple', 'mango']\n"
     ]
    }
   ],
   "source": [
    "#reverse the order\n",
    "lst = [\"mango\",\"Pineapple\",\"Apple\"]\n",
    "lst.reverse()\n",
    "print(lst)"
   ]
  }
 ],
 "metadata": {
  "kernelspec": {
   "display_name": "myenv",
   "language": "python",
   "name": "python3"
  },
  "language_info": {
   "codemirror_mode": {
    "name": "ipython",
    "version": 3
   },
   "file_extension": ".py",
   "mimetype": "text/x-python",
   "name": "python",
   "nbconvert_exporter": "python",
   "pygments_lexer": "ipython3",
   "version": "3.9.12"
  }
 },
 "nbformat": 4,
 "nbformat_minor": 5
}
