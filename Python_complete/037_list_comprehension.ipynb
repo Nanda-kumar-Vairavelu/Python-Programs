{
 "cells": [
  {
   "cell_type": "code",
   "execution_count": 1,
   "id": "d6fb5fb0",
   "metadata": {},
   "outputs": [
    {
     "name": "stdout",
     "output_type": "stream",
     "text": [
      "['banana', 'kiwi', 'mango']\n"
     ]
    }
   ],
   "source": [
    "lst = [\"apple\",\"banana\",\"kiwi\",\"mango\"]\n",
    "newlst = [x for x in lst if x != \"apple\"]\n",
    "print(newlst)\n"
   ]
  },
  {
   "cell_type": "code",
   "execution_count": 2,
   "id": "a2a06271",
   "metadata": {},
   "outputs": [
    {
     "name": "stdout",
     "output_type": "stream",
     "text": [
      "['apple', 'banana', 'kiwi', 'mango']\n"
     ]
    }
   ],
   "source": [
    "lst = [\"apple\",\"banana\",\"kiwi\",\"mango\"]\n",
    "newlst = [x for x in lst]\n",
    "print(newlst)"
   ]
  },
  {
   "cell_type": "code",
   "execution_count": 4,
   "id": "93939813",
   "metadata": {},
   "outputs": [
    {
     "name": "stdout",
     "output_type": "stream",
     "text": [
      "[0, 1, 2, 3, 4, 5, 6, 7, 8, 9]\n"
     ]
    }
   ],
   "source": [
    "lst = [\"apple\",\"banana\",\"kiwi\",\"mango\"]\n",
    "newlst = [x for x in range(10)]\n",
    "print(newlst)"
   ]
  },
  {
   "cell_type": "code",
   "execution_count": 5,
   "id": "f8349ec0",
   "metadata": {},
   "outputs": [
    {
     "name": "stdout",
     "output_type": "stream",
     "text": [
      "[0, 1, 2, 3, 4]\n"
     ]
    }
   ],
   "source": [
    "lst = [\"apple\",\"banana\",\"kiwi\",\"mango\"]\n",
    "newlst = [x for x in range(10) if x < 5]\n",
    "print(newlst)"
   ]
  },
  {
   "cell_type": "code",
   "execution_count": 6,
   "id": "e8123240",
   "metadata": {},
   "outputs": [
    {
     "name": "stdout",
     "output_type": "stream",
     "text": [
      "['APPLE', 'BANANA', 'KIWI', 'MANGO']\n"
     ]
    }
   ],
   "source": [
    "lst = [\"apple\",\"banana\",\"kiwi\",\"mango\"]\n",
    "newlst = [x.upper() for x in lst]\n",
    "print(newlst)"
   ]
  },
  {
   "cell_type": "code",
   "execution_count": 7,
   "id": "526739de",
   "metadata": {},
   "outputs": [
    {
     "name": "stdout",
     "output_type": "stream",
     "text": [
      "['banana', 'kiwi', 'mango']\n"
     ]
    }
   ],
   "source": [
    "lst = [\"apple\",\"banana\",\"kiwi\",\"mango\"]\n",
    "newlst = [x for x in lst if x != \"apple\"]\n",
    "print(newlst)"
   ]
  },
  {
   "cell_type": "code",
   "execution_count": 9,
   "id": "f2b4fc79",
   "metadata": {},
   "outputs": [
    {
     "name": "stdout",
     "output_type": "stream",
     "text": [
      "['banana', 'banana', 'kiwi', 'mango']\n"
     ]
    }
   ],
   "source": [
    "lst = [\"apple\",\"banana\",\"kiwi\",\"mango\"]\n",
    "newlst = [x if x != \"apple\" else \"banana\" for x in lst]\n",
    "print(newlst)"
   ]
  }
 ],
 "metadata": {
  "kernelspec": {
   "display_name": "myenv",
   "language": "python",
   "name": "python3"
  },
  "language_info": {
   "codemirror_mode": {
    "name": "ipython",
    "version": 3
   },
   "file_extension": ".py",
   "mimetype": "text/x-python",
   "name": "python",
   "nbconvert_exporter": "python",
   "pygments_lexer": "ipython3",
   "version": "3.9.12"
  }
 },
 "nbformat": 4,
 "nbformat_minor": 5
}
