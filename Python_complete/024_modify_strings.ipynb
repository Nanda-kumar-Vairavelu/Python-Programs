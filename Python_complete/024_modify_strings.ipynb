{
 "cells": [
  {
   "cell_type": "code",
   "execution_count": 1,
   "id": "040cacce",
   "metadata": {},
   "outputs": [
    {
     "name": "stdout",
     "output_type": "stream",
     "text": [
      "hello, world\n",
      "HELLO, WORLD\n",
      "['Hello', ' world']\n",
      "Zello, world\n",
      "Hello, world\n"
     ]
    }
   ],
   "source": [
    "a = \"Hello, world\"\n",
    "print(a.lower())\n",
    "print(a.upper())\n",
    "print(a.split(','))\n",
    "print(a.replace('H','Z'))\n",
    "print(a.strip())"
   ]
  }
 ],
 "metadata": {
  "kernelspec": {
   "display_name": "myenv",
   "language": "python",
   "name": "python3"
  },
  "language_info": {
   "codemirror_mode": {
    "name": "ipython",
    "version": 3
   },
   "file_extension": ".py",
   "mimetype": "text/x-python",
   "name": "python",
   "nbconvert_exporter": "python",
   "pygments_lexer": "ipython3",
   "version": "3.9.12"
  }
 },
 "nbformat": 4,
 "nbformat_minor": 5
}
