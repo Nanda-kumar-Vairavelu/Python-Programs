{
 "cells": [
  {
   "cell_type": "code",
   "execution_count": null,
   "id": "87087f78",
   "metadata": {},
   "outputs": [
    {
     "name": "stdout",
     "output_type": "stream",
     "text": [
      "['Apple', 'Banana', 'Orange']\n",
      "3\n",
      "<class 'list'>\n",
      "['Apple', 1, 3.5]\n",
      "<class 'list'>\n",
      "['Apple', ['Banana', 'Orange']]\n",
      "['APple', 'Orange']\n"
     ]
    }
   ],
   "source": [
    "list1 = [\"Apple\",\"Banana\",\"Orange\"]\n",
    "list2 = [\"Apple\",1,3.5]\n",
    "list3 = [\"Apple\",[\"Banana\",\"Orange\"]]\n",
    "list4 = list([\"APple\",\"Orange\"])\n",
    "print(list1)\n",
    "print(len(list1))\n",
    "print(type(list1)) #lists are defined as objects with the data type 'list'\n",
    "print(list2)\n",
    "print(type(list2))\n",
    "print(list3)\n",
    "print(list4)"
   ]
  }
 ],
 "metadata": {
  "kernelspec": {
   "display_name": "myenv",
   "language": "python",
   "name": "python3"
  },
  "language_info": {
   "codemirror_mode": {
    "name": "ipython",
    "version": 3
   },
   "file_extension": ".py",
   "mimetype": "text/x-python",
   "name": "python",
   "nbconvert_exporter": "python",
   "pygments_lexer": "ipython3",
   "version": "3.9.12"
  }
 },
 "nbformat": 4,
 "nbformat_minor": 5
}
