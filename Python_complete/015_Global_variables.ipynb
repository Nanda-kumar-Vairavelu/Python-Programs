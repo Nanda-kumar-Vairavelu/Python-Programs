{
 "cells": [
  {
   "cell_type": "code",
   "execution_count": 12,
   "id": "5d26f20b",
   "metadata": {},
   "outputs": [
    {
     "name": "stdout",
     "output_type": "stream",
     "text": [
      "Fantastic\n",
      "Python is Awesome\n"
     ]
    }
   ],
   "source": [
    "#Global variable\n",
    "x = \"Awesome\"\n",
    "def func():\n",
    "    x = \"Fantastic\"\n",
    "    print(x)\n",
    "\n",
    "func()\n",
    "print(\"Python is \" + x)"
   ]
  },
  {
   "cell_type": "code",
   "execution_count": 13,
   "id": "27c3d63b",
   "metadata": {},
   "outputs": [
    {
     "name": "stdout",
     "output_type": "stream",
     "text": [
      "Fantastic\n",
      "Python is Fantastic\n"
     ]
    }
   ],
   "source": [
    "#Global variable\n",
    "x = \"Awesome\"\n",
    "def func():\n",
    "    global x \n",
    "    x = \"Fantastic\"\n",
    "    print(x)\n",
    "\n",
    "func()\n",
    "print(\"Python is \" + x)"
   ]
  }
 ],
 "metadata": {
  "kernelspec": {
   "display_name": "myenv",
   "language": "python",
   "name": "python3"
  },
  "language_info": {
   "codemirror_mode": {
    "name": "ipython",
    "version": 3
   },
   "file_extension": ".py",
   "mimetype": "text/x-python",
   "name": "python",
   "nbconvert_exporter": "python",
   "pygments_lexer": "ipython3",
   "version": "3.9.12"
  }
 },
 "nbformat": 4,
 "nbformat_minor": 5
}
