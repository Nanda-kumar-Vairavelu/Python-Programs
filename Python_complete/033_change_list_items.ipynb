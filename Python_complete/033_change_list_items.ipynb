{
 "cells": [
  {
   "cell_type": "code",
   "execution_count": 1,
   "id": "3875c659",
   "metadata": {},
   "outputs": [
    {
     "name": "stdout",
     "output_type": "stream",
     "text": [
      "['apple', 'kiwi', 'watermelon']\n"
     ]
    }
   ],
   "source": [
    "list = [\"apple\",\"Orange\",\"watermelon\"]\n",
    "list[1] = \"kiwi\"\n",
    "print(list)"
   ]
  },
  {
   "cell_type": "code",
   "execution_count": 2,
   "id": "a6378167",
   "metadata": {},
   "outputs": [
    {
     "name": "stdout",
     "output_type": "stream",
     "text": [
      "['apple', 'kiwi', 'grapes', 'watermelon']\n"
     ]
    }
   ],
   "source": [
    "list = [\"apple\",\"Orange\",\"watermelon\"]\n",
    "list[1:2] =[\"kiwi\",\"grapes\"]\n",
    "print(list)"
   ]
  },
  {
   "cell_type": "code",
   "execution_count": 3,
   "id": "f8ab1a6e",
   "metadata": {},
   "outputs": [
    {
     "name": "stdout",
     "output_type": "stream",
     "text": [
      "['apple', 'Orange', 'grapes', 'watermelon']\n"
     ]
    }
   ],
   "source": [
    "list = [\"apple\",\"Orange\",\"watermelon\"]\n",
    "list.insert(2,\"grapes\")\n",
    "print(list)"
   ]
  }
 ],
 "metadata": {
  "kernelspec": {
   "display_name": "myenv",
   "language": "python",
   "name": "python3"
  },
  "language_info": {
   "codemirror_mode": {
    "name": "ipython",
    "version": 3
   },
   "file_extension": ".py",
   "mimetype": "text/x-python",
   "name": "python",
   "nbconvert_exporter": "python",
   "pygments_lexer": "ipython3",
   "version": "3.9.12"
  }
 },
 "nbformat": 4,
 "nbformat_minor": 5
}
