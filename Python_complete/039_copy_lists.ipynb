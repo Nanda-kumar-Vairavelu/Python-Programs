{
 "cells": [
  {
   "cell_type": "code",
   "execution_count": 1,
   "id": "318a419b",
   "metadata": {},
   "outputs": [
    {
     "name": "stdout",
     "output_type": "stream",
     "text": [
      "['Apple', 'Mango', 'Pineapple']\n"
     ]
    }
   ],
   "source": [
    "lst = [\"Apple\",\"Mango\",\"Pineapple\"]\n",
    "cpylst = lst.copy()\n",
    "print(cpylst)"
   ]
  },
  {
   "cell_type": "code",
   "execution_count": 2,
   "id": "e17bb755",
   "metadata": {},
   "outputs": [
    {
     "name": "stdout",
     "output_type": "stream",
     "text": [
      "['Apple', 'Mango', 'Pineapple']\n"
     ]
    }
   ],
   "source": [
    "#using list command\n",
    "lst = [\"Apple\",\"Mango\",\"Pineapple\"]\n",
    "cpylst = list(lst)\n",
    "print(cpylst)"
   ]
  },
  {
   "cell_type": "code",
   "execution_count": 3,
   "id": "e2d8ae31",
   "metadata": {},
   "outputs": [
    {
     "name": "stdout",
     "output_type": "stream",
     "text": [
      "['Apple', 'Mango', 'Pineapple']\n"
     ]
    }
   ],
   "source": [
    "#using slice operator\n",
    "lst = [\"Apple\",\"Mango\",\"Pineapple\"]\n",
    "cpylst = lst[:]\n",
    "print(cpylst)"
   ]
  },
  {
   "cell_type": "code",
   "execution_count": null,
   "id": "63511f31",
   "metadata": {},
   "outputs": [],
   "source": []
  }
 ],
 "metadata": {
  "kernelspec": {
   "display_name": "myenv",
   "language": "python",
   "name": "python3"
  },
  "language_info": {
   "codemirror_mode": {
    "name": "ipython",
    "version": 3
   },
   "file_extension": ".py",
   "mimetype": "text/x-python",
   "name": "python",
   "nbconvert_exporter": "python",
   "pygments_lexer": "ipython3",
   "version": "3.9.12"
  }
 },
 "nbformat": 4,
 "nbformat_minor": 5
}
