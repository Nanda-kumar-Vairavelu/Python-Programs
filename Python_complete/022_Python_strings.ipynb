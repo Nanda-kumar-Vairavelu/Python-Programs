{
 "cells": [
  {
   "cell_type": "code",
   "execution_count": null,
   "id": "117e93bd",
   "metadata": {},
   "outputs": [
    {
     "name": "stdout",
     "output_type": "stream",
     "text": [
      "x\n",
      "x\n"
     ]
    }
   ],
   "source": [
    "#single and double quotes are same\n",
    "a = 'x'\n",
    "b = \"x\"\n",
    "print(a)\n",
    "print(b)"
   ]
  },
  {
   "cell_type": "code",
   "execution_count": 3,
   "id": "83aaf494",
   "metadata": {},
   "outputs": [
    {
     "name": "stdout",
     "output_type": "stream",
     "text": [
      "This is an 'example'\n",
      "This is also an \"example\"\n"
     ]
    }
   ],
   "source": [
    "#quotes within quotes\n",
    "a = \"This is an 'example'\"\n",
    "print(a)\n",
    "b = 'This is also an \"example\"'\n",
    "print(b)"
   ]
  },
  {
   "cell_type": "code",
   "execution_count": 5,
   "id": "122c5cd3",
   "metadata": {},
   "outputs": [
    {
     "name": "stdout",
     "output_type": "stream",
     "text": [
      "a b c\n",
      "d e f\n"
     ]
    }
   ],
   "source": [
    "#Multi line quotes\n",
    "a = '''a b c\n",
    "d e f'''\n",
    "print(a)"
   ]
  },
  {
   "cell_type": "code",
   "execution_count": 6,
   "id": "7933e5b1",
   "metadata": {},
   "outputs": [
    {
     "name": "stdout",
     "output_type": "stream",
     "text": [
      "i\n"
     ]
    }
   ],
   "source": [
    "#Strings are arrays\n",
    "a = \"life is good\"\n",
    "print(a[1])"
   ]
  },
  {
   "cell_type": "code",
   "execution_count": 7,
   "id": "62fbe43f",
   "metadata": {},
   "outputs": [
    {
     "name": "stdout",
     "output_type": "stream",
     "text": [
      "b\n",
      "a\n",
      "n\n",
      "a\n",
      "n\n",
      "a\n"
     ]
    }
   ],
   "source": [
    "#Looping through string\n",
    "for x in \"banana\":\n",
    "    print(x)"
   ]
  },
  {
   "cell_type": "code",
   "execution_count": 9,
   "id": "9bd74ae2",
   "metadata": {},
   "outputs": [
    {
     "name": "stdout",
     "output_type": "stream",
     "text": [
      "present\n",
      "not prestn\n"
     ]
    }
   ],
   "source": [
    "#check in string\n",
    "x = \"life is good\"\n",
    "if 'good' in x:\n",
    "    print(\"present\")\n",
    "if 'expensive' not in x:\n",
    "    print(\"not prestn\")"
   ]
  },
  {
   "cell_type": "code",
   "execution_count": null,
   "id": "cc5bc81e",
   "metadata": {},
   "outputs": [],
   "source": []
  }
 ],
 "metadata": {
  "kernelspec": {
   "display_name": "myenv",
   "language": "python",
   "name": "python3"
  },
  "language_info": {
   "codemirror_mode": {
    "name": "ipython",
    "version": 3
   },
   "file_extension": ".py",
   "mimetype": "text/x-python",
   "name": "python",
   "nbconvert_exporter": "python",
   "pygments_lexer": "ipython3",
   "version": "3.9.12"
  }
 },
 "nbformat": 4,
 "nbformat_minor": 5
}
