{
 "cells": [
  {
   "cell_type": "code",
   "execution_count": 2,
   "id": "43b9a66a",
   "metadata": {},
   "outputs": [
    {
     "name": "stdout",
     "output_type": "stream",
     "text": [
      "{'cherry', 'Apple', 'mango', 'Banana'}\n"
     ]
    }
   ],
   "source": [
    "thisset = {'Apple','Banana','cherry'}\n",
    "thisset.add('mango')\n",
    "print(thisset)"
   ]
  },
  {
   "cell_type": "code",
   "execution_count": 3,
   "id": "1489241b",
   "metadata": {},
   "outputs": [
    {
     "name": "stdout",
     "output_type": "stream",
     "text": [
      "{1, 'cherry', 'Apple', 2, 3, 'Banana'}\n"
     ]
    }
   ],
   "source": [
    "thisset = {'Apple','Banana','cherry'}\n",
    "tropical = {1,2,3}\n",
    "thisset.update(tropical)\n",
    "print(thisset)"
   ]
  },
  {
   "cell_type": "code",
   "execution_count": 4,
   "id": "76c3f389",
   "metadata": {},
   "outputs": [
    {
     "name": "stdout",
     "output_type": "stream",
     "text": [
      "{1, 2, 'cherry', 3, 'Banana', 'Apple'}\n"
     ]
    }
   ],
   "source": [
    "thisset = {'Apple','Banana','cherry'}\n",
    "list = [1,2,3] \n",
    "thisset.update(list)\n",
    "print(thisset)"
   ]
  }
 ],
 "metadata": {
  "kernelspec": {
   "display_name": "myenv",
   "language": "python",
   "name": "python3"
  },
  "language_info": {
   "codemirror_mode": {
    "name": "ipython",
    "version": 3
   },
   "file_extension": ".py",
   "mimetype": "text/x-python",
   "name": "python",
   "nbconvert_exporter": "python",
   "pygments_lexer": "ipython3",
   "version": "3.9.12"
  }
 },
 "nbformat": 4,
 "nbformat_minor": 5
}
