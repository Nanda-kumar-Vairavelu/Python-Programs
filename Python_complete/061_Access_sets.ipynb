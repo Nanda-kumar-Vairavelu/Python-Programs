{
 "cells": [
  {
   "cell_type": "code",
   "execution_count": null,
   "id": "75cd0f89",
   "metadata": {},
   "outputs": [
    {
     "name": "stdout",
     "output_type": "stream",
     "text": [
      "{'BananA', 'Apple', 'cherry'}\n"
     ]
    }
   ],
   "source": [
    "set = {'Apple','BananA','cherry'}\n",
    "print(set)"
   ]
  },
  {
   "cell_type": "code",
   "execution_count": 2,
   "id": "9bd8670c",
   "metadata": {},
   "outputs": [
    {
     "name": "stdout",
     "output_type": "stream",
     "text": [
      "{'BananA', 'Apple', 'cherry'}\n"
     ]
    }
   ],
   "source": [
    "#Duplicates\n",
    "set = {'Apple','BananA','cherry','Apple'}\n",
    "print(set)"
   ]
  },
  {
   "cell_type": "code",
   "execution_count": 4,
   "id": "792f3df9",
   "metadata": {},
   "outputs": [
    {
     "name": "stdout",
     "output_type": "stream",
     "text": [
      "{'BananA', 'Apple', 'cherry', False}\n",
      "{'BananA', 'Apple', 'cherry', True}\n"
     ]
    }
   ],
   "source": [
    "#False and 0 are same. True and 1 are same \n",
    "set = {'Apple','BananA','cherry',False,0}\n",
    "print(set)\n",
    "set1 = {'Apple','BananA','cherry',True,1}\n",
    "print(set1)"
   ]
  },
  {
   "cell_type": "code",
   "execution_count": 5,
   "id": "0b200909",
   "metadata": {},
   "outputs": [
    {
     "name": "stdout",
     "output_type": "stream",
     "text": [
      "BananA\n",
      "Apple\n",
      "cherry\n"
     ]
    }
   ],
   "source": [
    "set = {'Apple','BananA','cherry'}\n",
    "for x in set:\n",
    "    print(x)"
   ]
  },
  {
   "cell_type": "code",
   "execution_count": 6,
   "id": "416ad127",
   "metadata": {},
   "outputs": [
    {
     "name": "stdout",
     "output_type": "stream",
     "text": [
      "True\n"
     ]
    }
   ],
   "source": [
    "set = {'Apple','Banana','cherry'}\n",
    "print('Banana' in set)"
   ]
  },
  {
   "cell_type": "code",
   "execution_count": 7,
   "id": "619e7e20",
   "metadata": {},
   "outputs": [
    {
     "name": "stdout",
     "output_type": "stream",
     "text": [
      "False\n"
     ]
    }
   ],
   "source": [
    "set = {'Apple','Banana','cherry'}\n",
    "print('Banana' not in set)"
   ]
  }
 ],
 "metadata": {
  "kernelspec": {
   "display_name": "myenv",
   "language": "python",
   "name": "python3"
  },
  "language_info": {
   "codemirror_mode": {
    "name": "ipython",
    "version": 3
   },
   "file_extension": ".py",
   "mimetype": "text/x-python",
   "name": "python",
   "nbconvert_exporter": "python",
   "pygments_lexer": "ipython3",
   "version": "3.9.12"
  }
 },
 "nbformat": 4,
 "nbformat_minor": 5
}
