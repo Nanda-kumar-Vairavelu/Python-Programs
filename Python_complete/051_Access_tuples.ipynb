{
 "cells": [
  {
   "cell_type": "code",
   "execution_count": 1,
   "id": "836eb894",
   "metadata": {},
   "outputs": [
    {
     "name": "stdout",
     "output_type": "stream",
     "text": [
      "('Apple', 'Banana', 'Cherry')\n"
     ]
    }
   ],
   "source": [
    "thistuple = ('Apple','Banana','Cherry')\n",
    "print(thistuple)"
   ]
  },
  {
   "cell_type": "code",
   "execution_count": 2,
   "id": "05f28ca3",
   "metadata": {},
   "outputs": [
    {
     "name": "stdout",
     "output_type": "stream",
     "text": [
      "Banana\n"
     ]
    }
   ],
   "source": [
    "thistuple = ('Apple','Banana','Cherry')\n",
    "print(thistuple[1])"
   ]
  },
  {
   "cell_type": "code",
   "execution_count": 3,
   "id": "bac1a553",
   "metadata": {},
   "outputs": [
    {
     "name": "stdout",
     "output_type": "stream",
     "text": [
      "Cherry\n"
     ]
    }
   ],
   "source": [
    "thistuple = ('Apple','Banana','Cherry')\n",
    "print(thistuple[-1])"
   ]
  },
  {
   "cell_type": "code",
   "execution_count": 4,
   "id": "83e077a4",
   "metadata": {},
   "outputs": [
    {
     "name": "stdout",
     "output_type": "stream",
     "text": [
      "('Cherry',)\n"
     ]
    }
   ],
   "source": [
    "thistuple = ('Apple','Banana','Cherry')\n",
    "print(thistuple[2:3])"
   ]
  },
  {
   "cell_type": "code",
   "execution_count": 5,
   "id": "b1a6f2a4",
   "metadata": {},
   "outputs": [
    {
     "name": "stdout",
     "output_type": "stream",
     "text": [
      "('Banana', 'Cherry')\n"
     ]
    }
   ],
   "source": [
    "thistuple = ('Apple','Banana','Cherry')\n",
    "print(thistuple[1:])"
   ]
  },
  {
   "cell_type": "code",
   "execution_count": 7,
   "id": "0a8ff535",
   "metadata": {},
   "outputs": [
    {
     "name": "stdout",
     "output_type": "stream",
     "text": [
      "('Apple',)\n"
     ]
    }
   ],
   "source": [
    "thistuple = ('Apple','Banana','Cherry')\n",
    "print(thistuple[:1])"
   ]
  }
 ],
 "metadata": {
  "kernelspec": {
   "display_name": "myenv",
   "language": "python",
   "name": "python3"
  },
  "language_info": {
   "codemirror_mode": {
    "name": "ipython",
    "version": 3
   },
   "file_extension": ".py",
   "mimetype": "text/x-python",
   "name": "python",
   "nbconvert_exporter": "python",
   "pygments_lexer": "ipython3",
   "version": "3.9.12"
  }
 },
 "nbformat": 4,
 "nbformat_minor": 5
}
