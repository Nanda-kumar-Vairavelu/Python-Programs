{
 "cells": [
  {
   "cell_type": "code",
   "execution_count": 4,
   "id": "96cc1b6c",
   "metadata": {},
   "outputs": [
    {
     "name": "stdout",
     "output_type": "stream",
     "text": [
      "I am John and age is 24\n"
     ]
    }
   ],
   "source": [
    "a = 24\n",
    "print(\"I am John and age is\",+a)"
   ]
  },
  {
   "cell_type": "code",
   "execution_count": 7,
   "id": "23f32502",
   "metadata": {},
   "outputs": [
    {
     "name": "stdout",
     "output_type": "stream",
     "text": [
      "I am John and age is 24\n"
     ]
    }
   ],
   "source": [
    "a = 24\n",
    "txt = f\"I am John and age is {a}\"\n",
    "print(txt)"
   ]
  },
  {
   "cell_type": "code",
   "execution_count": 8,
   "id": "cfd7514e",
   "metadata": {},
   "outputs": [
    {
     "name": "stdout",
     "output_type": "stream",
     "text": [
      "Price is 24\n"
     ]
    }
   ],
   "source": [
    "price = 24\n",
    "txt = f\"Price is {price}\"\n",
    "print(txt)"
   ]
  },
  {
   "cell_type": "code",
   "execution_count": 9,
   "id": "8575bb63",
   "metadata": {},
   "outputs": [
    {
     "name": "stdout",
     "output_type": "stream",
     "text": [
      "Price is 6\n"
     ]
    }
   ],
   "source": [
    "txt = f\"Price is {2*3}\"\n",
    "print(txt)"
   ]
  }
 ],
 "metadata": {
  "kernelspec": {
   "display_name": "myenv",
   "language": "python",
   "name": "python3"
  },
  "language_info": {
   "codemirror_mode": {
    "name": "ipython",
    "version": 3
   },
   "file_extension": ".py",
   "mimetype": "text/x-python",
   "name": "python",
   "nbconvert_exporter": "python",
   "pygments_lexer": "ipython3",
   "version": "3.9.12"
  }
 },
 "nbformat": 4,
 "nbformat_minor": 5
}
