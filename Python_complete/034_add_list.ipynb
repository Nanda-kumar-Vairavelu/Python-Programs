{
 "cells": [
  {
   "cell_type": "code",
   "execution_count": 2,
   "id": "5c51dd79",
   "metadata": {},
   "outputs": [
    {
     "name": "stdout",
     "output_type": "stream",
     "text": [
      "['banana', 'apple', 'orange', 'kiwi']\n"
     ]
    }
   ],
   "source": [
    "#append list\n",
    "thislist = [\"banana\",\"apple\",\"orange\"]\n",
    "thislist1 = \"kiwi\"\n",
    "thislist.append(thislist1)\n",
    "print(thislist)"
   ]
  },
  {
   "cell_type": "code",
   "execution_count": 3,
   "id": "a67e6f6d",
   "metadata": {},
   "outputs": [
    {
     "name": "stdout",
     "output_type": "stream",
     "text": [
      "['banana', 'mango', 'apple', 'orange']\n"
     ]
    }
   ],
   "source": [
    "#insert list\n",
    "thislist = [\"banana\",\"apple\",\"orange\"]\n",
    "thislist.insert(1,\"mango\")\n",
    "print(thislist)\n"
   ]
  },
  {
   "cell_type": "code",
   "execution_count": 5,
   "id": "09403f8f",
   "metadata": {},
   "outputs": [
    {
     "name": "stdout",
     "output_type": "stream",
     "text": [
      "['banana', 'apple', 'orange', 'mango', 'papaya']\n"
     ]
    }
   ],
   "source": [
    "#extend list\n",
    "thislist = [\"banana\",\"apple\",\"orange\"]\n",
    "thislist1 = [\"mango\",\"papaya\"]\n",
    "thislist.extend(thislist1)\n",
    "print(thislist)"
   ]
  },
  {
   "cell_type": "code",
   "execution_count": 8,
   "id": "7356563e",
   "metadata": {},
   "outputs": [
    {
     "name": "stdout",
     "output_type": "stream",
     "text": [
      "['banana', 'apple', 'orange', 'mango', 'papaya']\n"
     ]
    }
   ],
   "source": [
    "#extend with tuple\n",
    "thislist = [\"banana\",\"apple\",\"orange\"]\n",
    "tuple = (\"mango\",\"papaya\")\n",
    "thislist.extend(tuple)\n",
    "print(thislist)"
   ]
  }
 ],
 "metadata": {
  "kernelspec": {
   "display_name": "myenv",
   "language": "python",
   "name": "python3"
  },
  "language_info": {
   "codemirror_mode": {
    "name": "ipython",
    "version": 3
   },
   "file_extension": ".py",
   "mimetype": "text/x-python",
   "name": "python",
   "nbconvert_exporter": "python",
   "pygments_lexer": "ipython3",
   "version": "3.9.12"
  }
 },
 "nbformat": 4,
 "nbformat_minor": 5
}
