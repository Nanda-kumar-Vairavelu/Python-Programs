{
 "cells": [
  {
   "cell_type": "code",
   "execution_count": 1,
   "id": "002ee658",
   "metadata": {},
   "outputs": [
    {
     "name": "stdout",
     "output_type": "stream",
     "text": [
      "['Apple', 'Orange', 'kiwi', '1', '2', '3']\n"
     ]
    }
   ],
   "source": [
    "list1 = ['Apple','Orange','kiwi']\n",
    "list2 = ['1','2','3']\n",
    "list3 = list1 + list2\n",
    "print(list3)"
   ]
  },
  {
   "cell_type": "code",
   "execution_count": 2,
   "id": "441c3f4d",
   "metadata": {},
   "outputs": [
    {
     "name": "stdout",
     "output_type": "stream",
     "text": [
      "['Apple', 'Orange', 'kiwi', '1', '2', '3']\n"
     ]
    }
   ],
   "source": [
    "list1 = ['Apple','Orange','kiwi']\n",
    "list2 = ['1','2','3']\n",
    "\n",
    "for x in list2:\n",
    "    list1.append(x)\n",
    "\n",
    "print(list1)"
   ]
  },
  {
   "cell_type": "code",
   "execution_count": 3,
   "id": "11d73368",
   "metadata": {},
   "outputs": [
    {
     "name": "stdout",
     "output_type": "stream",
     "text": [
      "['1', '2', '3', 'Apple', 'Orange', 'kiwi']\n"
     ]
    }
   ],
   "source": [
    "list1 = ['Apple','Orange','kiwi']\n",
    "list2 = ['1','2','3']\n",
    "\n",
    "list2.extend(list1)\n",
    "print(list2)"
   ]
  }
 ],
 "metadata": {
  "kernelspec": {
   "display_name": "myenv",
   "language": "python",
   "name": "python3"
  },
  "language_info": {
   "codemirror_mode": {
    "name": "ipython",
    "version": 3
   },
   "file_extension": ".py",
   "mimetype": "text/x-python",
   "name": "python",
   "nbconvert_exporter": "python",
   "pygments_lexer": "ipython3",
   "version": "3.9.12"
  }
 },
 "nbformat": 4,
 "nbformat_minor": 5
}
